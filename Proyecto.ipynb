{
 "cells": [
  {
   "cell_type": "code",
   "execution_count": 74,
   "metadata": {},
   "outputs": [],
   "source": [
    "import warnings\n",
    "warnings.simplefilter(action='ignore')\n",
    "import pandas as pd\n",
    "import requests\n",
    "import json\n",
    "import numpy as np\n",
    "import matplotlib.pyplot as plt\n",
    "import matplotlib.dates as mdates\n",
    "import datetime as dt\n",
    "import geojson\n",
    "import geopandas as gpd\n",
    "from bs4 import BeautifulSoup \n",
    "import io\n",
    "import zipfile\n",
    "from mpl_toolkits.axes_grid1 import make_axes_locatable\n",
    "# import plotly.express as px\n",
    "import seaborn as sns"
   ]
  },
  {
   "cell_type": "markdown",
   "metadata": {},
   "source": [
    "* ## Campeonato Nacional **2010-2011**"
   ]
  },
  {
   "cell_type": "code",
   "execution_count": 75,
   "metadata": {},
   "outputs": [],
   "source": [
    "url = 'https://es.wikipedia.org/wiki/Primera_Divisi%C3%B3n_de_Chile_2010'\n",
    "respuesta = requests.get(url).text\n",
    "\n",
    "soup = BeautifulSoup(respuesta)\n",
    "info = soup.find('body',{'class':'mediawiki ltr sitedir-ltr mw-hide-empty-elt ns-0 ns-subject mw-editable page-Primera_División_de_Chile_2010 rootpage-Primera_División_de_Chile_2010 skin-vector action-view skin-vector-legacy'})\n",
    "tabla = info.find('div',{'id':'content'}).find('div',{'id':'mw-content-text'}).find('div',{'class':'mw-parser-output'}).find_all('table',{'class':'wikitable'})[3].find('tbody')\n",
    "equipos = tabla.find_all('tr')[1::]\n",
    "aux = []\n",
    "\n",
    "for rows in equipos:\n",
    "    columna = rows.find_all('td')\n",
    "    col = [columna[i].text.strip() for i in range(10)]\n",
    "    aux.append(col)\n",
    "\n",
    "df_2010 = pd.DataFrame(aux, columns=['POS','EQUIPO','PTS','PJ','PG','PE','PP','GF','GC','DIF'])\n",
    "\n",
    "df_2010['PTS']=df_2010['PTS'].astype(int)\n",
    "df_2010['PJ']=df_2010['PJ'].astype(int)\n",
    "df_2010['PG']=df_2010['PG'].astype(int)\n",
    "df_2010['PE']=df_2010['PE'].astype(int)\n",
    "df_2010['PP']=df_2010['PP'].astype(int)\n",
    "df_2010['GF']=df_2010['GF'].astype(int)\n",
    "df_2010['GC']=df_2010['GC'].astype(int)\n",
    "\n",
    "\n",
    "df_2010=df_2010.set_index(['POS'])\n",
    "df_2010=df_2010.replace('Colo-Colo 1','Colo-Colo')\n",
    "\n"
   ]
  },
  {
   "cell_type": "markdown",
   "metadata": {},
   "source": [
    "* ## Campeonato Nacional **2011-2012**"
   ]
  },
  {
   "cell_type": "code",
   "execution_count": 76,
   "metadata": {},
   "outputs": [],
   "source": [
    "url = 'https://es.wikipedia.org/wiki/Torneo_Clausura_2011_(Chile)'\n",
    "respuesta = requests.get(url).text\n",
    "\n",
    "soup = BeautifulSoup(respuesta)\n",
    "body = body=soup.find('body',{'class':'mediawiki ltr sitedir-ltr mw-hide-empty-elt ns-0 ns-subject mw-editable page-Torneo_Clausura_2011_Chile rootpage-Torneo_Clausura_2011_Chile skin-vector action-view skin-vector-legacy'}).find('div',{'id':'content'}).find('div',{'id':'bodyContent'}).find('div',{'id':'mw-content-text'}).find('div',{'class':'mw-parser-output'}).find_all('table',{'align':'center','style':'font-size: 90%; border-collapse:collapse'})\n",
    "equipos=body[1].find_all('tr')[1::]\n",
    "aux = []\n",
    "\n",
    "for rows in equipos:\n",
    "    columna = rows.find_all('td')\n",
    "    col = [columna[i].text.strip() for i in range(11)]\n",
    "    aux.append(col)\n",
    "\n",
    "df_2011 = pd.DataFrame(aux, columns=['I','POS','EQUIPO','PTS','PJ','PG','PE','PP','GF','GC','DIF'])\n",
    "df_2011=df_2011.drop(columns='I')\n",
    "\n",
    "df_2011['PTS']=df_2011['PTS'].astype(int)\n",
    "df_2011['PJ']=df_2011['PJ'].astype(int)\n",
    "df_2011['PG']=df_2011['PG'].astype(int)\n",
    "df_2011['PE']=df_2011['PE'].astype(int)\n",
    "df_2011['PP']=df_2011['PP'].astype(int)\n",
    "df_2011['GF']=df_2011['GF'].astype(int)\n",
    "df_2011['GC']=df_2011['GC'].astype(int)\n",
    "\n",
    "\n",
    "df_2011=df_2011.set_index(['POS'])\n",
    "\n",
    "\n",
    "df_2011=df_2011.replace('Colo-Colo[2]​','Colo-Colo')\n",
    "df_2011=df_2011.reindex(columns=['EQUIPO','PTS','PJ','PG','PE','PP','GF','GC','DIF'])"
   ]
  },
  {
   "cell_type": "markdown",
   "metadata": {},
   "source": [
    "* ## Campeonato Nacional **2012-2013**"
   ]
  },
  {
   "cell_type": "code",
   "execution_count": 77,
   "metadata": {},
   "outputs": [],
   "source": [
    "url = 'https://es.wikipedia.org/wiki/Torneo_Clausura_2012_(Chile)'\n",
    "respuesta = requests.get(url).text\n",
    "aux=[]\n",
    "soup = BeautifulSoup(respuesta)\n",
    "body =soup.find('body').find('div',{'id':'content'}).find('div',{'id':'bodyContent','class':'vector-body'}).find('div',{'id':'mw-content-text'}).find('div',{'class':'mw-parser-output'}).find_all('table',{'style':'text-align: center;'})[1].find('tbody')\n",
    "equipos=body.find_all('tr')[1::]\n",
    "\n",
    "for rows in equipos:\n",
    "    columna = rows.find_all('td')\n",
    "    col = [columna[i].text.strip() for i in range(11)]\n",
    "    aux.append(col)\n",
    "\n",
    "df_2012 = pd.DataFrame(aux, columns=['I','POS','EQUIPO','PTS','PJ','PG','PE','PP','GF','GC','DIF'])\n",
    "df_2012=df_2012.drop(columns='I')\n",
    "\n",
    "df_2012['PTS']=df_2012['PTS'].astype(int)\n",
    "df_2012['PJ']=df_2012['PJ'].astype(int)\n",
    "df_2012['PG']=df_2012['PG'].astype(int)\n",
    "df_2012['PE']=df_2012['PE'].astype(int)\n",
    "df_2012['PP']=df_2012['PP'].astype(int)\n",
    "df_2012['GF']=df_2012['GF'].astype(int)\n",
    "df_2012['GC']=df_2012['GC'].astype(int)\n",
    "\n",
    "df_2012['EQUIPO']=df_2012['EQUIPO'].replace('Unión Española[5]​','Unión Española')\n",
    "\n",
    "df_2012=df_2012.set_index(['POS'])"
   ]
  },
  {
   "cell_type": "markdown",
   "metadata": {},
   "source": [
    "* ## Campeonato Nacional **2013-2014**"
   ]
  },
  {
   "cell_type": "code",
   "execution_count": 78,
   "metadata": {},
   "outputs": [],
   "source": [
    "url = 'https://es.wikipedia.org/wiki/Temporada_2013-2014_del_f%C3%BAtbol_chileno'\n",
    "respuesta = requests.get(url).text\n",
    "aux=[]\n",
    "soup = BeautifulSoup(respuesta)\n",
    "body=soup.find('body').find('div',{'id':'content'}).find('div',{'id':'bodyContent'}).find('div',{'id':'mw-content-text'}).find('div',{'class':'mw-parser-output'}).find_all('table',{'style':'font-size: 90%; border-collapse:collapse'})[2]\n",
    "equipos=body.find_all('tr')[1::]\n",
    "for rows in equipos:\n",
    "    columna = rows.find_all('td')\n",
    "    col = [columna[i].text.strip() for i in range(11)]\n",
    "    aux.append(col)\n",
    "\n",
    "df_2013 = pd.DataFrame(aux, columns=['I','POS','EQUIPO','PJ','PG','PE','PP','GF','GC','DIF','PTS'])\n",
    "df_2013=df_2013.drop(columns='I')\n",
    "\n",
    "df_2013['PTS']=df_2013['PTS'].astype(int)\n",
    "df_2013['PJ']=df_2013['PJ'].astype(int)\n",
    "df_2013['PG']=df_2013['PG'].astype(int)\n",
    "df_2013['PE']=df_2013['PE'].astype(int)\n",
    "df_2013['PP']=df_2013['PP'].astype(int)\n",
    "df_2013['GF']=df_2013['GF'].astype(int)\n",
    "df_2013['GC']=df_2013['GC'].astype(int)\n",
    "\n",
    "df_2013=df_2013.set_index(['POS'])\n",
    "df_2013=df_2013.reindex(columns=['EQUIPO','PTS','PJ','PG','PE','PP','GF','GC','DIF'])\n",
    "df_2013['EQUIPO']=df_2013['EQUIPO'].replace('U. de Concepción','Universidad de Concepción')\n"
   ]
  },
  {
   "cell_type": "markdown",
   "metadata": {},
   "source": [
    "* ## Campeonato Nacional **2014-2015**"
   ]
  },
  {
   "cell_type": "code",
   "execution_count": 79,
   "metadata": {},
   "outputs": [],
   "source": [
    "url = 'https://es.wikipedia.org/wiki/Torneo_Clausura_2015_(Chile)'\n",
    "respuesta = requests.get(url).text\n",
    "aux=[]\n",
    "soup = BeautifulSoup(respuesta)\n",
    "body=soup.find('body').find('div',{'id':'content'}).find('div',{'id':'bodyContent'}).find('div',{'id':'mw-content-text'}).find('div',{'class':'mw-parser-output'}).find_all('table',{'style':'font-size: 90%; border-collapse:collapse'})[0].find('tbody')\n",
    "equipos=body.find_all('tr')[1::]\n",
    "for rows in equipos:\n",
    "    columna = rows.find_all('td')\n",
    "    col = [columna[i].text.strip() for i in range(11)]\n",
    "    aux.append(col)\n",
    "\n",
    "df_2014 = pd.DataFrame(aux, columns=['I','POS','EQUIPO','PTS','PJ','PG','PE','PP','GF','GC','DIF'])\n",
    "df_2014=df_2014.drop(columns='I')\n",
    "\n",
    "df_2014['PTS']=df_2014['PTS'].astype(int)\n",
    "df_2014['PJ']=df_2014['PJ'].astype(int)\n",
    "df_2014['PG']=df_2014['PG'].astype(int)\n",
    "df_2014['PE']=df_2014['PE'].astype(int)\n",
    "df_2014['PP']=df_2014['PP'].astype(int)\n",
    "df_2014['GF']=df_2014['GF'].astype(int)\n",
    "df_2014['GC']=df_2014['GC'].astype(int)\n",
    "\n",
    "\n",
    "df_2014=df_2014.set_index(['POS'])\n",
    "df_2014=df_2014.reindex(columns=['EQUIPO','PTS','PJ','PG','PE','PP','GF','GC','DIF'])\n",
    "df_2014['EQUIPO']=df_2014['EQUIPO'].replace('Cobreloa[2]​','Cobreloa')\n"
   ]
  },
  {
   "cell_type": "markdown",
   "metadata": {},
   "source": [
    "* ## Campeonato Nacional **2015-2016**"
   ]
  },
  {
   "cell_type": "code",
   "execution_count": 80,
   "metadata": {},
   "outputs": [],
   "source": [
    "url = 'https://es.wikipedia.org/wiki/Torneo_Clausura_2016_(Chile)'\n",
    "respuesta = requests.get(url).text\n",
    "aux=[]\n",
    "soup = BeautifulSoup(respuesta)\n",
    "body=soup.find('body').find('div',{'id':'content'}).find('div',{'id':'bodyContent'}).find('div',{'id':'mw-content-text'}).find('div',{'class':'mw-parser-output'}).find_all('table',{'style':'text-align: center; font-size: 90%;'})[1].find('tbody')\n",
    "equipos=body.find_all('tr')[1::]\n",
    "\n",
    "for rows in equipos:\n",
    "    columna = rows.find_all('td')\n",
    "    col = [columna[i].text.strip() for i in range(11)]\n",
    "    aux.append(col)\n",
    "\n",
    "df_2015 = pd.DataFrame(aux, columns=['I','POS','EQUIPO','PTS','PJ','PG','PE','PP','GF','GC','DIF'])\n",
    "df_2015=df_2015.drop(columns='I')\n",
    "\n",
    "df_2015['PTS']=df_2015['PTS'].astype(int)\n",
    "df_2015['PJ']=df_2015['PJ'].astype(int)\n",
    "df_2015['PG']=df_2015['PG'].astype(int)\n",
    "df_2015['PE']=df_2015['PE'].astype(int)\n",
    "df_2015['PP']=df_2015['PP'].astype(int)\n",
    "df_2015['GF']=df_2015['GF'].astype(int)\n",
    "df_2015['GC']=df_2015['GC'].astype(int)\n",
    "\n",
    "\n",
    "df_2015=df_2015.set_index(['POS'])\n",
    "df_2015=df_2015.reindex(columns=['EQUIPO','PTS','PJ','PG','PE','PP','GF','GC','DIF'])\n",
    "\n"
   ]
  },
  {
   "cell_type": "markdown",
   "metadata": {},
   "source": [
    "* ## Campeonato Nacional **2016-2017**"
   ]
  },
  {
   "cell_type": "code",
   "execution_count": 81,
   "metadata": {},
   "outputs": [],
   "source": [
    "url = 'https://es.wikipedia.org/wiki/Torneo_Clausura_2017_(Chile)'\n",
    "respuesta = requests.get(url).text\n",
    "aux=[]\n",
    "soup = BeautifulSoup(respuesta)\n",
    "body=soup.find('body').find('div',{'id':'content'}).find('div',{'id':'bodyContent'}).find('div',{'id':'mw-content-text'}).find('div',{'class':'mw-parser-output'}).find_all('table',{'style':'text-align: center; font-size: 90%;'})[1].find('tbody')\n",
    "equipos=body.find_all('tr')[1::]\n",
    "\n",
    "for rows in equipos:\n",
    "    columna = rows.find_all('td')\n",
    "    col = [columna[i].text.strip() for i in range(11)]\n",
    "    aux.append(col)\n",
    "\n",
    "df_2016 = pd.DataFrame(aux, columns=['POS','EQUIPO','PTS','PJ','PG','PE','PP','GF','GC','DIF','I'])\n",
    "df_2016=df_2016.drop(columns='I')\n",
    "\n",
    "df_2016['PTS']=df_2016['PTS'].astype(int)\n",
    "df_2016['PJ']=df_2016['PJ'].astype(int)\n",
    "df_2016['PG']=df_2016['PG'].astype(int)\n",
    "df_2016['PE']=df_2016['PE'].astype(int)\n",
    "df_2016['PP']=df_2016['PP'].astype(int)\n",
    "df_2016['GF']=df_2016['GF'].astype(int)\n",
    "df_2016['GC']=df_2016['GC'].astype(int)\n",
    "\n",
    "\n",
    "df_2016=df_2016.set_index(['POS'])\n",
    "df_2016=df_2016.reindex(columns=['EQUIPO','PTS','PJ','PG','PE','PP','GF','GC','DIF'])\n",
    "df_2016['EQUIPO']=df_2016['EQUIPO'].replace('Cobresal (D)','Cobresal')\n",
    "\n",
    "\n"
   ]
  },
  {
   "cell_type": "markdown",
   "metadata": {},
   "source": [
    "* ## Campeonato Nacional **2017-2018**"
   ]
  },
  {
   "cell_type": "code",
   "execution_count": 82,
   "metadata": {},
   "outputs": [],
   "source": [
    "url = 'https://es.wikipedia.org/wiki/Torneo_de_Transici%C3%B3n_2017_(Chile)'\n",
    "respuesta = requests.get(url).text\n",
    "aux=[]\n",
    "soup = BeautifulSoup(respuesta)\n",
    "body=soup.find('body').find('div',{'id':'content'}).find('div',{'id':'bodyContent'}).find('div',{'id':'mw-content-text'}).find('div',{'class':'mw-parser-output'}).find_all('table',{'style':'background: #F9F9F9; text-align: center; font-size: 90%; border-collapse:collapse'})[0].find('tbody')\n",
    "equipos=body.find_all('tr')[1::]\n",
    "\n",
    "for rows in equipos:\n",
    "    columna = rows.find_all('td')\n",
    "    col = [columna[i].text.strip() for i in range(len(columna))]\n",
    "    aux.append(col)\n",
    "\n",
    "df_2017 = pd.DataFrame(aux, columns=['POS','EQUIPO','PTS','PJ','PG','PE','PP','GF','GC','DIF'])\n",
    "\n",
    "df_2017 = df_2017.set_index(['POS'])\n",
    "df_2017=df_2017.dropna()\n",
    "\n",
    "df_2017['PTS']=df_2017['PTS'].astype(int)\n",
    "df_2017['PJ']=df_2017['PJ'].astype(int)\n",
    "df_2017['PG']=df_2017['PG'].astype(int)\n",
    "df_2017['PE']=df_2017['PE'].astype(int)\n",
    "df_2017['PP']=df_2017['PP'].astype(int)\n",
    "df_2017['GF']=df_2017['GF'].astype(int)\n",
    "df_2017['GC']=df_2017['GC'].astype(int)\n",
    "\n",
    "df_2017['EQUIPO']=df_2017['EQUIPO'].replace('Colo-Colo[n. 1]​','Colo-Colo')\n",
    "df_2017['EQUIPO']=df_2017['EQUIPO'].replace('Universidad de Chile[n. 2]​','Universidad de Chile')\n",
    "df_2017['EQUIPO']=df_2017['EQUIPO'].replace('Santiago Wanderers[n. 3]​','Santiago Wanderers')"
   ]
  },
  {
   "cell_type": "code",
   "execution_count": 83,
   "metadata": {},
   "outputs": [],
   "source": [
    "url_campeonato_2018 = 'https://es.wikipedia.org/wiki/Primera_Divisi%C3%B3n_de_Chile_2018'\n",
    "respuesta = requests.get(url_campeonato_2018).text\n",
    "\n",
    "soup_campeonato_2018 = BeautifulSoup(respuesta)\n",
    "# Se encuentra la tabla de posiciones de los equipos mediante el metodo find y find_all de bs4\n",
    "informacion_posiciones = soup_campeonato_2018.find('div', class_='mw-parser-output').find('table',{'align':'center'})\n",
    "equipos = informacion_posiciones.find_all('tr')[1::]\n",
    "len(equipos)\n",
    "\n",
    "# Se eliminan los indices que no tienen relación a la información buscada\n",
    "equipos.pop(16)\n",
    "\n",
    "# Se genera el df de las posiciones de los equipos\n",
    "aux = []\n",
    "for rows in equipos:\n",
    "    columna = rows.find_all('td')\n",
    "    col = [columna[i].text.strip() for i in range(10)]\n",
    "    aux.append(col)\n",
    "df_2018 = pd.DataFrame(aux, columns=['POS','EQUIPO','PTS','PJ','PG','PE','PP','GF','GC','DIF'])\n",
    "df_2018=df_2018.set_index('POS')\n",
    "\n",
    "df_2018['PTS']=df_2018['PTS'].astype(int)\n",
    "df_2018['PJ']=df_2018['PJ'].astype(int)\n",
    "df_2018['PG']=df_2018['PG'].astype(int)\n",
    "df_2018['PE']=df_2018['PE'].astype(int)\n",
    "df_2018['PP']=df_2018['PP'].astype(int)\n",
    "df_2018['GF']=df_2018['GF'].astype(int)\n",
    "df_2018['GC']=df_2018['GC'].astype(int)\n",
    "\n",
    "df_2018['EQUIPO']=df_2018['EQUIPO'].replace('Universidad Católica (C)','Universidad Católica')\n",
    "df_2018['EQUIPO']=df_2018['EQUIPO'].replace('Deportes Temuco (D)','Deportes Temuco')\n",
    "df_2018['EQUIPO']=df_2018['EQUIPO'].replace('San Luis (D)','San Luis')"
   ]
  },
  {
   "cell_type": "code",
   "execution_count": 84,
   "metadata": {},
   "outputs": [],
   "source": [
    "url_campeonato_2019 = 'https://es.wikipedia.org/wiki/Primera_Divisi%C3%B3n_de_Chile_2019'\n",
    "respuesta = requests.get(url_campeonato_2019).text\n",
    "\n",
    "soup_campeonato_2019 = BeautifulSoup(respuesta)\n",
    "# Se encuentra la tabla de posiciones de los equipos mediante el metodo find y find_all de bs4\n",
    "informacion_posiciones = soup_campeonato_2019.find('div', class_='mw-parser-output').find_all('table',{'align':'center'})[1]\n",
    "equipos = informacion_posiciones.find_all('tr')[1::]\n",
    "equipos\n",
    "\n",
    "# Se eliminan los indices que no tienen relación a la información buscada\n",
    "equipos.pop(16)\n",
    "\n",
    "# Se genera el df de las posiciones de los equipos\n",
    "aux = []\n",
    "for rows in equipos:\n",
    "    columna = rows.find_all('td')\n",
    "    col = [columna[i].text.strip() for i in range(10)]\n",
    "    aux.append(col)\n",
    "\n",
    "df_2019 = pd.DataFrame(aux, columns=['POS','EQUIPO','PTS','PJ','PG','PE','PP','GF','GC','DIF'])\n",
    "df_2019['PTS']=df_2019['PTS'].astype(int)\n",
    "df_2019['PJ']=df_2019['PJ'].astype(int)\n",
    "df_2019['PG']=df_2019['PG'].astype(int)\n",
    "df_2019['PE']=df_2019['PE'].astype(int)\n",
    "df_2019['PP']=df_2019['PP'].astype(int)\n",
    "df_2019['GF']=df_2019['GF'].astype(int)\n",
    "df_2019['GC']=df_2019['GC'].astype(int)\n",
    "\n",
    "df_2019=df_2019.set_index('POS')"
   ]
  },
  {
   "cell_type": "markdown",
   "metadata": {},
   "source": [
    "* ## Campeonato Nacional **2020**"
   ]
  },
  {
   "cell_type": "code",
   "execution_count": 85,
   "metadata": {},
   "outputs": [],
   "source": [
    "url_campeonato_2020 = 'https://es.wikipedia.org/wiki/Primera_Divisi%C3%B3n_de_Chile_2020'\n",
    "respuesta = requests.get(url_campeonato_2020).text\n",
    "\n",
    "soup_campeonato_2020 = BeautifulSoup(respuesta)\n",
    "# Se encuentra la tabla de posiciones de los equipos mediante el metodo find y find_all de bs4\n",
    "informacion_posiciones = soup_campeonato_2020.find('div', class_='mw-parser-output').find_all('table',{'align':'center'})[1]\n",
    "equipos = informacion_posiciones.find_all('tr')[1::]\n",
    "\n",
    "# # Se eliminan los indices que no tienen relación a la información buscada\n",
    "# equipos.pop(16)\n",
    "\n",
    "# Se genera el df de las posiciones de los equipos\n",
    "aux = []\n",
    "for rows in equipos:\n",
    "    columna = rows.find_all('td')\n",
    "    col = [columna[i].text.strip() for i in range(9)]\n",
    "    aux.append(col)\n",
    "\n",
    "\n",
    "df_2020 = pd.DataFrame(aux, columns=['EQUIPO','PTS','PJ','PG','PE','PP','GF','GC','DIF'])\n",
    "df_2020['PTS']=df_2020['PTS'].astype(int)\n",
    "df_2020['PJ']=df_2020['PJ'].astype(int)\n",
    "df_2020['PG']=df_2020['PG'].astype(int)\n",
    "df_2020['PE']=df_2020['PE'].astype(int)\n",
    "df_2020['PP']=df_2020['PP'].astype(int)\n",
    "df_2020['GF']=df_2020['GF'].astype(int) \n",
    "df_2020['GC']=df_2020['GC'].astype(int)"
   ]
  },
  {
   "cell_type": "markdown",
   "metadata": {},
   "source": [
    "---"
   ]
  },
  {
   "cell_type": "markdown",
   "metadata": {},
   "source": [
    "* #### Veamos todos los DataFrames"
   ]
  },
  {
   "cell_type": "code",
   "execution_count": null,
   "metadata": {},
   "outputs": [],
   "source": []
  },
  {
   "cell_type": "code",
   "execution_count": 86,
   "metadata": {},
   "outputs": [
    {
     "data": {
      "text/html": [
       "<div>\n",
       "<style scoped>\n",
       "    .dataframe tbody tr th:only-of-type {\n",
       "        vertical-align: middle;\n",
       "    }\n",
       "\n",
       "    .dataframe tbody tr th {\n",
       "        vertical-align: top;\n",
       "    }\n",
       "\n",
       "    .dataframe thead th {\n",
       "        text-align: right;\n",
       "    }\n",
       "</style>\n",
       "<table border=\"1\" class=\"dataframe\">\n",
       "  <thead>\n",
       "    <tr style=\"text-align: right;\">\n",
       "      <th></th>\n",
       "      <th>EQUIPO</th>\n",
       "      <th>PTS</th>\n",
       "      <th>PJ</th>\n",
       "      <th>PG</th>\n",
       "      <th>PE</th>\n",
       "      <th>PP</th>\n",
       "      <th>GF</th>\n",
       "      <th>GC</th>\n",
       "    </tr>\n",
       "  </thead>\n",
       "  <tbody>\n",
       "    <tr>\n",
       "      <th>0</th>\n",
       "      <td>Universidad Católica</td>\n",
       "      <td>621</td>\n",
       "      <td>333</td>\n",
       "      <td>181</td>\n",
       "      <td>78</td>\n",
       "      <td>74</td>\n",
       "      <td>617</td>\n",
       "      <td>377</td>\n",
       "    </tr>\n",
       "    <tr>\n",
       "      <th>1</th>\n",
       "      <td>Colo-Colo</td>\n",
       "      <td>591</td>\n",
       "      <td>333</td>\n",
       "      <td>172</td>\n",
       "      <td>75</td>\n",
       "      <td>86</td>\n",
       "      <td>550</td>\n",
       "      <td>380</td>\n",
       "    </tr>\n",
       "    <tr>\n",
       "      <th>2</th>\n",
       "      <td>Universidad de Chile</td>\n",
       "      <td>575</td>\n",
       "      <td>333</td>\n",
       "      <td>163</td>\n",
       "      <td>86</td>\n",
       "      <td>84</td>\n",
       "      <td>607</td>\n",
       "      <td>414</td>\n",
       "    </tr>\n",
       "    <tr>\n",
       "      <th>3</th>\n",
       "      <td>Unión Española</td>\n",
       "      <td>502</td>\n",
       "      <td>333</td>\n",
       "      <td>138</td>\n",
       "      <td>88</td>\n",
       "      <td>108</td>\n",
       "      <td>527</td>\n",
       "      <td>470</td>\n",
       "    </tr>\n",
       "    <tr>\n",
       "      <th>4</th>\n",
       "      <td>O'Higgins</td>\n",
       "      <td>490</td>\n",
       "      <td>333</td>\n",
       "      <td>136</td>\n",
       "      <td>82</td>\n",
       "      <td>115</td>\n",
       "      <td>471</td>\n",
       "      <td>432</td>\n",
       "    </tr>\n",
       "    <tr>\n",
       "      <th>5</th>\n",
       "      <td>Palestino</td>\n",
       "      <td>464</td>\n",
       "      <td>333</td>\n",
       "      <td>125</td>\n",
       "      <td>89</td>\n",
       "      <td>119</td>\n",
       "      <td>459</td>\n",
       "      <td>454</td>\n",
       "    </tr>\n",
       "    <tr>\n",
       "      <th>6</th>\n",
       "      <td>Audax Italiano</td>\n",
       "      <td>451</td>\n",
       "      <td>333</td>\n",
       "      <td>119</td>\n",
       "      <td>94</td>\n",
       "      <td>120</td>\n",
       "      <td>499</td>\n",
       "      <td>492</td>\n",
       "    </tr>\n",
       "    <tr>\n",
       "      <th>7</th>\n",
       "      <td>Universidad de Concepción</td>\n",
       "      <td>437</td>\n",
       "      <td>333</td>\n",
       "      <td>113</td>\n",
       "      <td>98</td>\n",
       "      <td>122</td>\n",
       "      <td>413</td>\n",
       "      <td>445</td>\n",
       "    </tr>\n",
       "    <tr>\n",
       "      <th>8</th>\n",
       "      <td>Huachipato</td>\n",
       "      <td>436</td>\n",
       "      <td>333</td>\n",
       "      <td>116</td>\n",
       "      <td>88</td>\n",
       "      <td>129</td>\n",
       "      <td>447</td>\n",
       "      <td>467</td>\n",
       "    </tr>\n",
       "    <tr>\n",
       "      <th>9</th>\n",
       "      <td>Deportes Iquique</td>\n",
       "      <td>383</td>\n",
       "      <td>300</td>\n",
       "      <td>98</td>\n",
       "      <td>90</td>\n",
       "      <td>113</td>\n",
       "      <td>394</td>\n",
       "      <td>450</td>\n",
       "    </tr>\n",
       "    <tr>\n",
       "      <th>10</th>\n",
       "      <td>Santiago Wanderers</td>\n",
       "      <td>356</td>\n",
       "      <td>279</td>\n",
       "      <td>93</td>\n",
       "      <td>77</td>\n",
       "      <td>109</td>\n",
       "      <td>380</td>\n",
       "      <td>411</td>\n",
       "    </tr>\n",
       "    <tr>\n",
       "      <th>11</th>\n",
       "      <td>Cobresal</td>\n",
       "      <td>349</td>\n",
       "      <td>289</td>\n",
       "      <td>95</td>\n",
       "      <td>62</td>\n",
       "      <td>132</td>\n",
       "      <td>371</td>\n",
       "      <td>472</td>\n",
       "    </tr>\n",
       "    <tr>\n",
       "      <th>12</th>\n",
       "      <td>Deportes Antofagasta</td>\n",
       "      <td>335</td>\n",
       "      <td>265</td>\n",
       "      <td>86</td>\n",
       "      <td>77</td>\n",
       "      <td>102</td>\n",
       "      <td>322</td>\n",
       "      <td>350</td>\n",
       "    </tr>\n",
       "    <tr>\n",
       "      <th>13</th>\n",
       "      <td>Unión La Calera</td>\n",
       "      <td>335</td>\n",
       "      <td>255</td>\n",
       "      <td>90</td>\n",
       "      <td>65</td>\n",
       "      <td>100</td>\n",
       "      <td>319</td>\n",
       "      <td>331</td>\n",
       "    </tr>\n",
       "    <tr>\n",
       "      <th>14</th>\n",
       "      <td>Everton</td>\n",
       "      <td>237</td>\n",
       "      <td>201</td>\n",
       "      <td>59</td>\n",
       "      <td>60</td>\n",
       "      <td>82</td>\n",
       "      <td>230</td>\n",
       "      <td>284</td>\n",
       "    </tr>\n",
       "    <tr>\n",
       "      <th>15</th>\n",
       "      <td>Cobreloa</td>\n",
       "      <td>206</td>\n",
       "      <td>170</td>\n",
       "      <td>57</td>\n",
       "      <td>38</td>\n",
       "      <td>74</td>\n",
       "      <td>215</td>\n",
       "      <td>237</td>\n",
       "    </tr>\n",
       "    <tr>\n",
       "      <th>16</th>\n",
       "      <td>Deportes La Serena</td>\n",
       "      <td>164</td>\n",
       "      <td>136</td>\n",
       "      <td>43</td>\n",
       "      <td>35</td>\n",
       "      <td>58</td>\n",
       "      <td>177</td>\n",
       "      <td>217</td>\n",
       "    </tr>\n",
       "    <tr>\n",
       "      <th>17</th>\n",
       "      <td>Ñublense</td>\n",
       "      <td>152</td>\n",
       "      <td>136</td>\n",
       "      <td>41</td>\n",
       "      <td>29</td>\n",
       "      <td>67</td>\n",
       "      <td>182</td>\n",
       "      <td>236</td>\n",
       "    </tr>\n",
       "    <tr>\n",
       "      <th>18</th>\n",
       "      <td>Curicó Unido</td>\n",
       "      <td>124</td>\n",
       "      <td>103</td>\n",
       "      <td>32</td>\n",
       "      <td>28</td>\n",
       "      <td>43</td>\n",
       "      <td>122</td>\n",
       "      <td>149</td>\n",
       "    </tr>\n",
       "    <tr>\n",
       "      <th>19</th>\n",
       "      <td>Unión San Felipe</td>\n",
       "      <td>114</td>\n",
       "      <td>102</td>\n",
       "      <td>29</td>\n",
       "      <td>27</td>\n",
       "      <td>46</td>\n",
       "      <td>110</td>\n",
       "      <td>140</td>\n",
       "    </tr>\n",
       "    <tr>\n",
       "      <th>20</th>\n",
       "      <td>San Luis</td>\n",
       "      <td>104</td>\n",
       "      <td>109</td>\n",
       "      <td>26</td>\n",
       "      <td>26</td>\n",
       "      <td>57</td>\n",
       "      <td>115</td>\n",
       "      <td>186</td>\n",
       "    </tr>\n",
       "    <tr>\n",
       "      <th>21</th>\n",
       "      <td>Deportes Temuco</td>\n",
       "      <td>88</td>\n",
       "      <td>75</td>\n",
       "      <td>22</td>\n",
       "      <td>22</td>\n",
       "      <td>31</td>\n",
       "      <td>76</td>\n",
       "      <td>95</td>\n",
       "    </tr>\n",
       "    <tr>\n",
       "      <th>22</th>\n",
       "      <td>Rangers</td>\n",
       "      <td>79</td>\n",
       "      <td>68</td>\n",
       "      <td>21</td>\n",
       "      <td>16</td>\n",
       "      <td>31</td>\n",
       "      <td>79</td>\n",
       "      <td>102</td>\n",
       "    </tr>\n",
       "    <tr>\n",
       "      <th>23</th>\n",
       "      <td>San Marcos de Arica</td>\n",
       "      <td>71</td>\n",
       "      <td>64</td>\n",
       "      <td>18</td>\n",
       "      <td>17</td>\n",
       "      <td>29</td>\n",
       "      <td>66</td>\n",
       "      <td>77</td>\n",
       "    </tr>\n",
       "    <tr>\n",
       "      <th>24</th>\n",
       "      <td>Santiago Morning</td>\n",
       "      <td>71</td>\n",
       "      <td>68</td>\n",
       "      <td>18</td>\n",
       "      <td>16</td>\n",
       "      <td>34</td>\n",
       "      <td>85</td>\n",
       "      <td>109</td>\n",
       "    </tr>\n",
       "    <tr>\n",
       "      <th>25</th>\n",
       "      <td>Coquimbo Unido</td>\n",
       "      <td>69</td>\n",
       "      <td>58</td>\n",
       "      <td>17</td>\n",
       "      <td>18</td>\n",
       "      <td>23</td>\n",
       "      <td>62</td>\n",
       "      <td>73</td>\n",
       "    </tr>\n",
       "    <tr>\n",
       "      <th>26</th>\n",
       "      <td>San Luis de Quillota</td>\n",
       "      <td>29</td>\n",
       "      <td>30</td>\n",
       "      <td>7</td>\n",
       "      <td>8</td>\n",
       "      <td>15</td>\n",
       "      <td>40</td>\n",
       "      <td>49</td>\n",
       "    </tr>\n",
       "    <tr>\n",
       "      <th>27</th>\n",
       "      <td>Barnechea</td>\n",
       "      <td>28</td>\n",
       "      <td>34</td>\n",
       "      <td>8</td>\n",
       "      <td>4</td>\n",
       "      <td>22</td>\n",
       "      <td>29</td>\n",
       "      <td>66</td>\n",
       "    </tr>\n",
       "  </tbody>\n",
       "</table>\n",
       "</div>"
      ],
      "text/plain": [
       "                       EQUIPO  PTS   PJ   PG  PE   PP   GF   GC\n",
       "0        Universidad Católica  621  333  181  78   74  617  377\n",
       "1                   Colo-Colo  591  333  172  75   86  550  380\n",
       "2        Universidad de Chile  575  333  163  86   84  607  414\n",
       "3              Unión Española  502  333  138  88  108  527  470\n",
       "4                   O'Higgins  490  333  136  82  115  471  432\n",
       "5                   Palestino  464  333  125  89  119  459  454\n",
       "6              Audax Italiano  451  333  119  94  120  499  492\n",
       "7   Universidad de Concepción  437  333  113  98  122  413  445\n",
       "8                  Huachipato  436  333  116  88  129  447  467\n",
       "9            Deportes Iquique  383  300   98  90  113  394  450\n",
       "10         Santiago Wanderers  356  279   93  77  109  380  411\n",
       "11                   Cobresal  349  289   95  62  132  371  472\n",
       "12       Deportes Antofagasta  335  265   86  77  102  322  350\n",
       "13            Unión La Calera  335  255   90  65  100  319  331\n",
       "14                    Everton  237  201   59  60   82  230  284\n",
       "15                   Cobreloa  206  170   57  38   74  215  237\n",
       "16         Deportes La Serena  164  136   43  35   58  177  217\n",
       "17                   Ñublense  152  136   41  29   67  182  236\n",
       "18               Curicó Unido  124  103   32  28   43  122  149\n",
       "19           Unión San Felipe  114  102   29  27   46  110  140\n",
       "20                   San Luis  104  109   26  26   57  115  186\n",
       "21            Deportes Temuco   88   75   22  22   31   76   95\n",
       "22                    Rangers   79   68   21  16   31   79  102\n",
       "23        San Marcos de Arica   71   64   18  17   29   66   77\n",
       "24           Santiago Morning   71   68   18  16   34   85  109\n",
       "25             Coquimbo Unido   69   58   17  18   23   62   73\n",
       "26       San Luis de Quillota   29   30    7   8   15   40   49\n",
       "27                  Barnechea   28   34    8   4   22   29   66"
      ]
     },
     "execution_count": 86,
     "metadata": {},
     "output_type": "execute_result"
    }
   ],
   "source": [
    "dataframes_list = [df_2010,df_2011,df_2012,df_2013,df_2014,df_2015,df_2016,df_2017,df_2018,df_2019,df_2020]\n",
    "df_decada=pd.concat([df_2010,df_2011,df_2012,df_2013,df_2014,df_2015,df_2016,df_2017,df_2018,df_2019,df_2020],axis=0)\n",
    "\n",
    "df_decada=df_decada.drop(columns='DIF')\n",
    "\n",
    "df_decada['PTS']=df_decada['PTS'].astype(int)\n",
    "df_decada['PJ']=df_decada['PJ'].astype(int)\n",
    "df_decada['PG']=df_decada['PG'].astype(int)\n",
    "df_decada['PE']=df_decada['PE'].astype(int)\n",
    "df_decada['PP']=df_decada['PP'].astype(int)\n",
    "df_decada['GF']=df_decada['GF'].astype(int) \n",
    "df_decada['GC']=df_decada['GC'].astype(int)\n",
    "\n",
    "df_decada = df_decada.groupby(by='EQUIPO').agg({'PTS':'sum','PJ':'sum','PG':'sum','PE':'sum','PP':'sum','GF':'sum','GC':'sum'})\n",
    "\n",
    "df_decada=df_decada.sort_values(by='PTS',ascending=False)\n",
    "#devido a la mala cuenta de un partido extra \"definitorio\", regularemos este dato en base a los partidos maximos\n",
    "df_decada['PJ']=df_decada['PJ'].replace(334,333)\n",
    "df_decada=df_decada.reset_index()\n",
    "df_decada"
   ]
  },
  {
   "cell_type": "markdown",
   "metadata": {},
   "source": [
    "### Veamos un elemento grafico en representacion de la cantidad de puntos obtenidos por cada equipo\n"
   ]
  },
  {
   "cell_type": "code",
   "execution_count": 87,
   "metadata": {},
   "outputs": [
    {
     "data": {
      "application/vnd.plotly.v1+json": {
       "config": {
        "plotlyServerURL": "https://plot.ly"
       },
       "data": [
        {
         "type": "bar",
         "x": [
          "Universidad Católica",
          "Colo-Colo",
          "Universidad de Chile",
          "Unión Española",
          "O'Higgins",
          "Palestino",
          "Audax Italiano",
          "Universidad de Concepción",
          "Huachipato",
          "Deportes Iquique",
          "Santiago Wanderers",
          "Cobresal",
          "Deportes Antofagasta",
          "Unión La Calera",
          "Everton",
          "Cobreloa",
          "Deportes La Serena",
          "Ñublense",
          "Curicó Unido",
          "Unión San Felipe",
          "San Luis",
          "Deportes Temuco",
          "Rangers",
          "San Marcos de Arica",
          "Santiago Morning",
          "Coquimbo Unido",
          "San Luis de Quillota",
          "Barnechea"
         ],
         "y": [
          621,
          591,
          575,
          502,
          490,
          464,
          451,
          437,
          436,
          383,
          356,
          349,
          335,
          335,
          237,
          206,
          164,
          152,
          124,
          114,
          104,
          88,
          79,
          71,
          71,
          69,
          29,
          28
         ]
        }
       ],
       "layout": {
        "template": {
         "data": {
          "bar": [
           {
            "error_x": {
             "color": "#2a3f5f"
            },
            "error_y": {
             "color": "#2a3f5f"
            },
            "marker": {
             "line": {
              "color": "#E5ECF6",
              "width": 0.5
             },
             "pattern": {
              "fillmode": "overlay",
              "size": 10,
              "solidity": 0.2
             }
            },
            "type": "bar"
           }
          ],
          "barpolar": [
           {
            "marker": {
             "line": {
              "color": "#E5ECF6",
              "width": 0.5
             },
             "pattern": {
              "fillmode": "overlay",
              "size": 10,
              "solidity": 0.2
             }
            },
            "type": "barpolar"
           }
          ],
          "carpet": [
           {
            "aaxis": {
             "endlinecolor": "#2a3f5f",
             "gridcolor": "white",
             "linecolor": "white",
             "minorgridcolor": "white",
             "startlinecolor": "#2a3f5f"
            },
            "baxis": {
             "endlinecolor": "#2a3f5f",
             "gridcolor": "white",
             "linecolor": "white",
             "minorgridcolor": "white",
             "startlinecolor": "#2a3f5f"
            },
            "type": "carpet"
           }
          ],
          "choropleth": [
           {
            "colorbar": {
             "outlinewidth": 0,
             "ticks": ""
            },
            "type": "choropleth"
           }
          ],
          "contour": [
           {
            "colorbar": {
             "outlinewidth": 0,
             "ticks": ""
            },
            "colorscale": [
             [
              0,
              "#0d0887"
             ],
             [
              0.1111111111111111,
              "#46039f"
             ],
             [
              0.2222222222222222,
              "#7201a8"
             ],
             [
              0.3333333333333333,
              "#9c179e"
             ],
             [
              0.4444444444444444,
              "#bd3786"
             ],
             [
              0.5555555555555556,
              "#d8576b"
             ],
             [
              0.6666666666666666,
              "#ed7953"
             ],
             [
              0.7777777777777778,
              "#fb9f3a"
             ],
             [
              0.8888888888888888,
              "#fdca26"
             ],
             [
              1,
              "#f0f921"
             ]
            ],
            "type": "contour"
           }
          ],
          "contourcarpet": [
           {
            "colorbar": {
             "outlinewidth": 0,
             "ticks": ""
            },
            "type": "contourcarpet"
           }
          ],
          "heatmap": [
           {
            "colorbar": {
             "outlinewidth": 0,
             "ticks": ""
            },
            "colorscale": [
             [
              0,
              "#0d0887"
             ],
             [
              0.1111111111111111,
              "#46039f"
             ],
             [
              0.2222222222222222,
              "#7201a8"
             ],
             [
              0.3333333333333333,
              "#9c179e"
             ],
             [
              0.4444444444444444,
              "#bd3786"
             ],
             [
              0.5555555555555556,
              "#d8576b"
             ],
             [
              0.6666666666666666,
              "#ed7953"
             ],
             [
              0.7777777777777778,
              "#fb9f3a"
             ],
             [
              0.8888888888888888,
              "#fdca26"
             ],
             [
              1,
              "#f0f921"
             ]
            ],
            "type": "heatmap"
           }
          ],
          "heatmapgl": [
           {
            "colorbar": {
             "outlinewidth": 0,
             "ticks": ""
            },
            "colorscale": [
             [
              0,
              "#0d0887"
             ],
             [
              0.1111111111111111,
              "#46039f"
             ],
             [
              0.2222222222222222,
              "#7201a8"
             ],
             [
              0.3333333333333333,
              "#9c179e"
             ],
             [
              0.4444444444444444,
              "#bd3786"
             ],
             [
              0.5555555555555556,
              "#d8576b"
             ],
             [
              0.6666666666666666,
              "#ed7953"
             ],
             [
              0.7777777777777778,
              "#fb9f3a"
             ],
             [
              0.8888888888888888,
              "#fdca26"
             ],
             [
              1,
              "#f0f921"
             ]
            ],
            "type": "heatmapgl"
           }
          ],
          "histogram": [
           {
            "marker": {
             "pattern": {
              "fillmode": "overlay",
              "size": 10,
              "solidity": 0.2
             }
            },
            "type": "histogram"
           }
          ],
          "histogram2d": [
           {
            "colorbar": {
             "outlinewidth": 0,
             "ticks": ""
            },
            "colorscale": [
             [
              0,
              "#0d0887"
             ],
             [
              0.1111111111111111,
              "#46039f"
             ],
             [
              0.2222222222222222,
              "#7201a8"
             ],
             [
              0.3333333333333333,
              "#9c179e"
             ],
             [
              0.4444444444444444,
              "#bd3786"
             ],
             [
              0.5555555555555556,
              "#d8576b"
             ],
             [
              0.6666666666666666,
              "#ed7953"
             ],
             [
              0.7777777777777778,
              "#fb9f3a"
             ],
             [
              0.8888888888888888,
              "#fdca26"
             ],
             [
              1,
              "#f0f921"
             ]
            ],
            "type": "histogram2d"
           }
          ],
          "histogram2dcontour": [
           {
            "colorbar": {
             "outlinewidth": 0,
             "ticks": ""
            },
            "colorscale": [
             [
              0,
              "#0d0887"
             ],
             [
              0.1111111111111111,
              "#46039f"
             ],
             [
              0.2222222222222222,
              "#7201a8"
             ],
             [
              0.3333333333333333,
              "#9c179e"
             ],
             [
              0.4444444444444444,
              "#bd3786"
             ],
             [
              0.5555555555555556,
              "#d8576b"
             ],
             [
              0.6666666666666666,
              "#ed7953"
             ],
             [
              0.7777777777777778,
              "#fb9f3a"
             ],
             [
              0.8888888888888888,
              "#fdca26"
             ],
             [
              1,
              "#f0f921"
             ]
            ],
            "type": "histogram2dcontour"
           }
          ],
          "mesh3d": [
           {
            "colorbar": {
             "outlinewidth": 0,
             "ticks": ""
            },
            "type": "mesh3d"
           }
          ],
          "parcoords": [
           {
            "line": {
             "colorbar": {
              "outlinewidth": 0,
              "ticks": ""
             }
            },
            "type": "parcoords"
           }
          ],
          "pie": [
           {
            "automargin": true,
            "type": "pie"
           }
          ],
          "scatter": [
           {
            "marker": {
             "colorbar": {
              "outlinewidth": 0,
              "ticks": ""
             }
            },
            "type": "scatter"
           }
          ],
          "scatter3d": [
           {
            "line": {
             "colorbar": {
              "outlinewidth": 0,
              "ticks": ""
             }
            },
            "marker": {
             "colorbar": {
              "outlinewidth": 0,
              "ticks": ""
             }
            },
            "type": "scatter3d"
           }
          ],
          "scattercarpet": [
           {
            "marker": {
             "colorbar": {
              "outlinewidth": 0,
              "ticks": ""
             }
            },
            "type": "scattercarpet"
           }
          ],
          "scattergeo": [
           {
            "marker": {
             "colorbar": {
              "outlinewidth": 0,
              "ticks": ""
             }
            },
            "type": "scattergeo"
           }
          ],
          "scattergl": [
           {
            "marker": {
             "colorbar": {
              "outlinewidth": 0,
              "ticks": ""
             }
            },
            "type": "scattergl"
           }
          ],
          "scattermapbox": [
           {
            "marker": {
             "colorbar": {
              "outlinewidth": 0,
              "ticks": ""
             }
            },
            "type": "scattermapbox"
           }
          ],
          "scatterpolar": [
           {
            "marker": {
             "colorbar": {
              "outlinewidth": 0,
              "ticks": ""
             }
            },
            "type": "scatterpolar"
           }
          ],
          "scatterpolargl": [
           {
            "marker": {
             "colorbar": {
              "outlinewidth": 0,
              "ticks": ""
             }
            },
            "type": "scatterpolargl"
           }
          ],
          "scatterternary": [
           {
            "marker": {
             "colorbar": {
              "outlinewidth": 0,
              "ticks": ""
             }
            },
            "type": "scatterternary"
           }
          ],
          "surface": [
           {
            "colorbar": {
             "outlinewidth": 0,
             "ticks": ""
            },
            "colorscale": [
             [
              0,
              "#0d0887"
             ],
             [
              0.1111111111111111,
              "#46039f"
             ],
             [
              0.2222222222222222,
              "#7201a8"
             ],
             [
              0.3333333333333333,
              "#9c179e"
             ],
             [
              0.4444444444444444,
              "#bd3786"
             ],
             [
              0.5555555555555556,
              "#d8576b"
             ],
             [
              0.6666666666666666,
              "#ed7953"
             ],
             [
              0.7777777777777778,
              "#fb9f3a"
             ],
             [
              0.8888888888888888,
              "#fdca26"
             ],
             [
              1,
              "#f0f921"
             ]
            ],
            "type": "surface"
           }
          ],
          "table": [
           {
            "cells": {
             "fill": {
              "color": "#EBF0F8"
             },
             "line": {
              "color": "white"
             }
            },
            "header": {
             "fill": {
              "color": "#C8D4E3"
             },
             "line": {
              "color": "white"
             }
            },
            "type": "table"
           }
          ]
         },
         "layout": {
          "annotationdefaults": {
           "arrowcolor": "#2a3f5f",
           "arrowhead": 0,
           "arrowwidth": 1
          },
          "autotypenumbers": "strict",
          "coloraxis": {
           "colorbar": {
            "outlinewidth": 0,
            "ticks": ""
           }
          },
          "colorscale": {
           "diverging": [
            [
             0,
             "#8e0152"
            ],
            [
             0.1,
             "#c51b7d"
            ],
            [
             0.2,
             "#de77ae"
            ],
            [
             0.3,
             "#f1b6da"
            ],
            [
             0.4,
             "#fde0ef"
            ],
            [
             0.5,
             "#f7f7f7"
            ],
            [
             0.6,
             "#e6f5d0"
            ],
            [
             0.7,
             "#b8e186"
            ],
            [
             0.8,
             "#7fbc41"
            ],
            [
             0.9,
             "#4d9221"
            ],
            [
             1,
             "#276419"
            ]
           ],
           "sequential": [
            [
             0,
             "#0d0887"
            ],
            [
             0.1111111111111111,
             "#46039f"
            ],
            [
             0.2222222222222222,
             "#7201a8"
            ],
            [
             0.3333333333333333,
             "#9c179e"
            ],
            [
             0.4444444444444444,
             "#bd3786"
            ],
            [
             0.5555555555555556,
             "#d8576b"
            ],
            [
             0.6666666666666666,
             "#ed7953"
            ],
            [
             0.7777777777777778,
             "#fb9f3a"
            ],
            [
             0.8888888888888888,
             "#fdca26"
            ],
            [
             1,
             "#f0f921"
            ]
           ],
           "sequentialminus": [
            [
             0,
             "#0d0887"
            ],
            [
             0.1111111111111111,
             "#46039f"
            ],
            [
             0.2222222222222222,
             "#7201a8"
            ],
            [
             0.3333333333333333,
             "#9c179e"
            ],
            [
             0.4444444444444444,
             "#bd3786"
            ],
            [
             0.5555555555555556,
             "#d8576b"
            ],
            [
             0.6666666666666666,
             "#ed7953"
            ],
            [
             0.7777777777777778,
             "#fb9f3a"
            ],
            [
             0.8888888888888888,
             "#fdca26"
            ],
            [
             1,
             "#f0f921"
            ]
           ]
          },
          "colorway": [
           "#636efa",
           "#EF553B",
           "#00cc96",
           "#ab63fa",
           "#FFA15A",
           "#19d3f3",
           "#FF6692",
           "#B6E880",
           "#FF97FF",
           "#FECB52"
          ],
          "font": {
           "color": "#2a3f5f"
          },
          "geo": {
           "bgcolor": "white",
           "lakecolor": "white",
           "landcolor": "#E5ECF6",
           "showlakes": true,
           "showland": true,
           "subunitcolor": "white"
          },
          "hoverlabel": {
           "align": "left"
          },
          "hovermode": "closest",
          "mapbox": {
           "style": "light"
          },
          "paper_bgcolor": "white",
          "plot_bgcolor": "#E5ECF6",
          "polar": {
           "angularaxis": {
            "gridcolor": "white",
            "linecolor": "white",
            "ticks": ""
           },
           "bgcolor": "#E5ECF6",
           "radialaxis": {
            "gridcolor": "white",
            "linecolor": "white",
            "ticks": ""
           }
          },
          "scene": {
           "xaxis": {
            "backgroundcolor": "#E5ECF6",
            "gridcolor": "white",
            "gridwidth": 2,
            "linecolor": "white",
            "showbackground": true,
            "ticks": "",
            "zerolinecolor": "white"
           },
           "yaxis": {
            "backgroundcolor": "#E5ECF6",
            "gridcolor": "white",
            "gridwidth": 2,
            "linecolor": "white",
            "showbackground": true,
            "ticks": "",
            "zerolinecolor": "white"
           },
           "zaxis": {
            "backgroundcolor": "#E5ECF6",
            "gridcolor": "white",
            "gridwidth": 2,
            "linecolor": "white",
            "showbackground": true,
            "ticks": "",
            "zerolinecolor": "white"
           }
          },
          "shapedefaults": {
           "line": {
            "color": "#2a3f5f"
           }
          },
          "ternary": {
           "aaxis": {
            "gridcolor": "white",
            "linecolor": "white",
            "ticks": ""
           },
           "baxis": {
            "gridcolor": "white",
            "linecolor": "white",
            "ticks": ""
           },
           "bgcolor": "#E5ECF6",
           "caxis": {
            "gridcolor": "white",
            "linecolor": "white",
            "ticks": ""
           }
          },
          "title": {
           "x": 0.05
          },
          "xaxis": {
           "automargin": true,
           "gridcolor": "white",
           "linecolor": "white",
           "ticks": "",
           "title": {
            "standoff": 15
           },
           "zerolinecolor": "white",
           "zerolinewidth": 2
          },
          "yaxis": {
           "automargin": true,
           "gridcolor": "white",
           "linecolor": "white",
           "ticks": "",
           "title": {
            "standoff": 15
           },
           "zerolinecolor": "white",
           "zerolinewidth": 2
          }
         }
        },
        "title": {
         "font": {
          "color": "black",
          "size": 20
         },
         "text": "Puntos Acumulados 2010 - 2020",
         "x": 0.5
        }
       }
      }
     },
     "metadata": {},
     "output_type": "display_data"
    }
   ],
   "source": [
    "import plotly.graph_objects as go\n",
    "\n",
    "figure_config=dict({\"data\":[{\"type\":\"bar\",\"x\":df_decada.EQUIPO,\"y\":df_decada['PTS']}],\n",
    "                    \"layout\":{\"title\":{\"text\":\"Puntos Acumulados 2010 - 2020\",\"x\":0.5,\"font\":{\"color\":\"black\",\"size\":20}}}\n",
    "                   })\n",
    "fig=go.Figure(figure_config)\n",
    "fig.show()"
   ]
  },
  {
   "cell_type": "code",
   "execution_count": 88,
   "metadata": {},
   "outputs": [
    {
     "data": {
      "image/png": "[encoded data removed]",
      "text/plain": [
       "<Figure size 1750x250 with 8 Axes>"
      ]
     },
     "metadata": {},
     "output_type": "display_data"
    }
   ],
   "source": [
    "sns.pairplot(df_decada,y_vars='PTS')\n",
    "plt.show()"
   ]
  },
  {
   "cell_type": "code",
   "execution_count": 89,
   "metadata": {},
   "outputs": [
    {
     "data": {
      "text/html": [
       "<div>\n",
       "<style scoped>\n",
       "    .dataframe tbody tr th:only-of-type {\n",
       "        vertical-align: middle;\n",
       "    }\n",
       "\n",
       "    .dataframe tbody tr th {\n",
       "        vertical-align: top;\n",
       "    }\n",
       "\n",
       "    .dataframe thead th {\n",
       "        text-align: right;\n",
       "    }\n",
       "</style>\n",
       "<table border=\"1\" class=\"dataframe\">\n",
       "  <thead>\n",
       "    <tr style=\"text-align: right;\">\n",
       "      <th></th>\n",
       "      <th>Nombre</th>\n",
       "      <th>LOC</th>\n",
       "      <th>Region</th>\n",
       "      <th>Equipo</th>\n",
       "      <th>apertura</th>\n",
       "      <th>capacidad</th>\n",
       "    </tr>\n",
       "    <tr>\n",
       "      <th>N</th>\n",
       "      <th></th>\n",
       "      <th></th>\n",
       "      <th></th>\n",
       "      <th></th>\n",
       "      <th></th>\n",
       "      <th></th>\n",
       "    </tr>\n",
       "  </thead>\n",
       "  <tbody>\n",
       "    <tr>\n",
       "      <th>1</th>\n",
       "      <td>Estadio Nacional Julio Martínez Prádanos</td>\n",
       "      <td>Santiago (Ñuñoa)</td>\n",
       "      <td>Metropolitana</td>\n",
       "      <td>Selección de fútbol de Chile  Universidad de C...</td>\n",
       "      <td>1938(2010)</td>\n",
       "      <td>48 665</td>\n",
       "    </tr>\n",
       "    <tr>\n",
       "      <th>2</th>\n",
       "      <td>Estadio Monumental David Arellano</td>\n",
       "      <td>Santiago (Macul)</td>\n",
       "      <td>Metropolitana</td>\n",
       "      <td>Colo-Colo</td>\n",
       "      <td>1975(1989)</td>\n",
       "      <td>47 347</td>\n",
       "    </tr>\n",
       "    <tr>\n",
       "      <th>3</th>\n",
       "      <td>Estadio Ester Roa Rebolledo</td>\n",
       "      <td>Concepción</td>\n",
       "      <td>Biobío</td>\n",
       "      <td>Deportes Concepción  Universidad de Concepción...</td>\n",
       "      <td>1962(2015)</td>\n",
       "      <td>30 448</td>\n",
       "    </tr>\n",
       "    <tr>\n",
       "      <th>4</th>\n",
       "      <td>Estadio Sausalito</td>\n",
       "      <td>Viña del Mar</td>\n",
       "      <td>Valparaíso</td>\n",
       "      <td>Everton</td>\n",
       "      <td>1929(2015)</td>\n",
       "      <td>23 423</td>\n",
       "    </tr>\n",
       "    <tr>\n",
       "      <th>5</th>\n",
       "      <td>Estadio Regional Calvo y Bascuñán</td>\n",
       "      <td>Antofagasta</td>\n",
       "      <td>Antofagasta</td>\n",
       "      <td>Deportes Antofagasta</td>\n",
       "      <td>1964(2013)</td>\n",
       "      <td>21 178</td>\n",
       "    </tr>\n",
       "    <tr>\n",
       "      <th>6</th>\n",
       "      <td>Estadio Elías Figueroa Brander</td>\n",
       "      <td>Valparaíso</td>\n",
       "      <td>Valparaíso</td>\n",
       "      <td>Santiago Wanderers</td>\n",
       "      <td>1931(2014)</td>\n",
       "      <td>20 575</td>\n",
       "    </tr>\n",
       "    <tr>\n",
       "      <th>7</th>\n",
       "      <td>Estadio Santa Laura - Universidad SEK</td>\n",
       "      <td>Santiago (Independencia)</td>\n",
       "      <td>Metropolitana</td>\n",
       "      <td>Unión Española</td>\n",
       "      <td>1923(2008)</td>\n",
       "      <td>19 000</td>\n",
       "    </tr>\n",
       "    <tr>\n",
       "      <th>8</th>\n",
       "      <td>Estadio Francisco Sánchez Rumoroso</td>\n",
       "      <td>Coquimbo</td>\n",
       "      <td>Coquimbo</td>\n",
       "      <td>Coquimbo Unido</td>\n",
       "      <td>1970(2008)</td>\n",
       "      <td>18 750</td>\n",
       "    </tr>\n",
       "    <tr>\n",
       "      <th>9</th>\n",
       "      <td>Estadio Germán Becker</td>\n",
       "      <td>Temuco</td>\n",
       "      <td>La Araucanía</td>\n",
       "      <td>Deportes Temuco</td>\n",
       "      <td>1965(2008)</td>\n",
       "      <td>18 413</td>\n",
       "    </tr>\n",
       "    <tr>\n",
       "      <th>10</th>\n",
       "      <td>Estadio La Portada</td>\n",
       "      <td>La Serena</td>\n",
       "      <td>Coquimbo</td>\n",
       "      <td>Deportes La Serena</td>\n",
       "      <td>1952(2015)</td>\n",
       "      <td>18 243</td>\n",
       "    </tr>\n",
       "    <tr>\n",
       "      <th>11</th>\n",
       "      <td>Estadio Fiscal de Talca</td>\n",
       "      <td>Talca</td>\n",
       "      <td>Maule</td>\n",
       "      <td>Rangers de Talca</td>\n",
       "      <td>1930(2019)</td>\n",
       "      <td>16 070</td>\n",
       "    </tr>\n",
       "    <tr>\n",
       "      <th>12</th>\n",
       "      <td>Estadio San Carlos de Apoquindo</td>\n",
       "      <td>Santiago (Las Condes)</td>\n",
       "      <td>Metropolitana</td>\n",
       "      <td>Universidad Católica</td>\n",
       "      <td>1988(2012)</td>\n",
       "      <td>14 780</td>\n",
       "    </tr>\n",
       "    <tr>\n",
       "      <th>13</th>\n",
       "      <td>Estadio El Teniente</td>\n",
       "      <td>Rancagua</td>\n",
       "      <td>O'Higgins</td>\n",
       "      <td>O'Higgins</td>\n",
       "      <td>1945(2015)</td>\n",
       "      <td>13 849</td>\n",
       "    </tr>\n",
       "    <tr>\n",
       "      <th>14</th>\n",
       "      <td>Estadio Tierra de Campeones</td>\n",
       "      <td>Iquique</td>\n",
       "      <td>Tarapacá</td>\n",
       "      <td>Deportes Iquique</td>\n",
       "      <td>1993(2020)</td>\n",
       "      <td>13 171</td>\n",
       "    </tr>\n",
       "    <tr>\n",
       "      <th>15</th>\n",
       "      <td>Estadio Zorros del Desierto</td>\n",
       "      <td>Calama</td>\n",
       "      <td>Antofagasta</td>\n",
       "      <td>Cobreloa</td>\n",
       "      <td>1952(2015)</td>\n",
       "      <td>12 102</td>\n",
       "    </tr>\n",
       "    <tr>\n",
       "      <th>16</th>\n",
       "      <td>Estadio Bicentenario de La Florida</td>\n",
       "      <td>Santiago (La Florida)</td>\n",
       "      <td>Metropolitana</td>\n",
       "      <td>Audax Italiano</td>\n",
       "      <td>2008</td>\n",
       "      <td>12 000</td>\n",
       "    </tr>\n",
       "    <tr>\n",
       "      <th>17</th>\n",
       "      <td>Estadio Bicentenario Nelson Oyarzún</td>\n",
       "      <td>Chillán</td>\n",
       "      <td>Ñuble</td>\n",
       "      <td>Ñublense</td>\n",
       "      <td>1961(2008)</td>\n",
       "      <td>12 000</td>\n",
       "    </tr>\n",
       "    <tr>\n",
       "      <th>18</th>\n",
       "      <td>Estadio El Cobre</td>\n",
       "      <td>El Salvador</td>\n",
       "      <td>Atacama</td>\n",
       "      <td>Cobresal</td>\n",
       "      <td>1980</td>\n",
       "      <td>12 000</td>\n",
       "    </tr>\n",
       "    <tr>\n",
       "      <th>19</th>\n",
       "      <td>Estadio Rubén Marcos Peralta</td>\n",
       "      <td>Osorno</td>\n",
       "      <td>Los Lagos</td>\n",
       "      <td>Provincial Osorno</td>\n",
       "      <td>1940</td>\n",
       "      <td>11 000</td>\n",
       "    </tr>\n",
       "    <tr>\n",
       "      <th>20</th>\n",
       "      <td>Estadio Huachipato-CAP Acero</td>\n",
       "      <td>Talcahuano</td>\n",
       "      <td>Biobío</td>\n",
       "      <td>Huachipato</td>\n",
       "      <td>2009</td>\n",
       "      <td>10 500</td>\n",
       "    </tr>\n",
       "    <tr>\n",
       "      <th>21</th>\n",
       "      <td>Estadio Regional de Chinquihue</td>\n",
       "      <td>Puerto Montt</td>\n",
       "      <td>Los Lagos</td>\n",
       "      <td>Deportes Puerto Montt</td>\n",
       "      <td>1982(2013)</td>\n",
       "      <td>10 000</td>\n",
       "    </tr>\n",
       "    <tr>\n",
       "      <th>22</th>\n",
       "      <td>Estadio Municipal de San Felipe</td>\n",
       "      <td>San Felipe</td>\n",
       "      <td>Valparaíso</td>\n",
       "      <td>Unión San Felipe</td>\n",
       "      <td>1958</td>\n",
       "      <td>10 000</td>\n",
       "    </tr>\n",
       "    <tr>\n",
       "      <th>23</th>\n",
       "      <td>Estadio Carlos Dittborn</td>\n",
       "      <td>Arica</td>\n",
       "      <td>Arica y Parinacota</td>\n",
       "      <td>San Marcos de Arica</td>\n",
       "      <td>1962(2014)</td>\n",
       "      <td>9625</td>\n",
       "    </tr>\n",
       "    <tr>\n",
       "      <th>24</th>\n",
       "      <td>Estadio Municipal Nicolás Chahuán Nazar</td>\n",
       "      <td>La Calera</td>\n",
       "      <td>Valparaíso</td>\n",
       "      <td>Unión La Calera</td>\n",
       "      <td>1954(2019)</td>\n",
       "      <td>9200</td>\n",
       "    </tr>\n",
       "    <tr>\n",
       "      <th>25</th>\n",
       "      <td>Estadio Luis Valenzuela Hermosilla</td>\n",
       "      <td>Copiapó</td>\n",
       "      <td>Atacama</td>\n",
       "      <td>Deportes Copiapó</td>\n",
       "      <td>1960(2011)</td>\n",
       "      <td>8500</td>\n",
       "    </tr>\n",
       "    <tr>\n",
       "      <th>26</th>\n",
       "      <td>Estadio La Granja</td>\n",
       "      <td>Curicó</td>\n",
       "      <td>Maule</td>\n",
       "      <td>Curicó Unido</td>\n",
       "      <td>1949(2016)</td>\n",
       "      <td>8278</td>\n",
       "    </tr>\n",
       "    <tr>\n",
       "      <th>27</th>\n",
       "      <td>Estadio Municipal de La Cisterna</td>\n",
       "      <td>Santiago (La Cisterna)</td>\n",
       "      <td>Metropolitana</td>\n",
       "      <td>Palestino</td>\n",
       "      <td>1988</td>\n",
       "      <td>8000</td>\n",
       "    </tr>\n",
       "    <tr>\n",
       "      <th>28</th>\n",
       "      <td>Estadio Municipal Lucio Fariña Fernández</td>\n",
       "      <td>Quillota</td>\n",
       "      <td>Valparaíso</td>\n",
       "      <td>San Luis de Quillota</td>\n",
       "      <td>1940(2010)</td>\n",
       "      <td>7700</td>\n",
       "    </tr>\n",
       "    <tr>\n",
       "      <th>29</th>\n",
       "      <td>Estadio El Morro</td>\n",
       "      <td>Talcahuano</td>\n",
       "      <td>Biobío</td>\n",
       "      <td>Naval</td>\n",
       "      <td>1949(2012)</td>\n",
       "      <td>7000</td>\n",
       "    </tr>\n",
       "    <tr>\n",
       "      <th>30</th>\n",
       "      <td>Estadio Roberto Bravo Santibáñez</td>\n",
       "      <td>Melipilla</td>\n",
       "      <td>Metropolitana</td>\n",
       "      <td>Deportes Melipilla</td>\n",
       "      <td>1942</td>\n",
       "      <td>6500</td>\n",
       "    </tr>\n",
       "    <tr>\n",
       "      <th>31</th>\n",
       "      <td>Estadio Municipal Jorge Silva Valenzuela</td>\n",
       "      <td>San Fernando</td>\n",
       "      <td>O'Higgins</td>\n",
       "      <td>Deportes Colchagua</td>\n",
       "      <td>1939</td>\n",
       "      <td>6000</td>\n",
       "    </tr>\n",
       "    <tr>\n",
       "      <th>32</th>\n",
       "      <td>Estadio Municipal de La Pintana</td>\n",
       "      <td>Santiago (La Pintana)</td>\n",
       "      <td>Metropolitana</td>\n",
       "      <td>Santiago Morning  La Pintana Unida</td>\n",
       "      <td>1996</td>\n",
       "      <td>6000</td>\n",
       "    </tr>\n",
       "    <tr>\n",
       "      <th>33</th>\n",
       "      <td>Estadio Municipal Joaquín Muñoz García</td>\n",
       "      <td>Santa Cruz</td>\n",
       "      <td>O'Higgins</td>\n",
       "      <td>Deportes Santa Cruz</td>\n",
       "      <td>1920</td>\n",
       "      <td>6000</td>\n",
       "    </tr>\n",
       "    <tr>\n",
       "      <th>34</th>\n",
       "      <td>Estadio Diaguita</td>\n",
       "      <td>Ovalle</td>\n",
       "      <td>Coquimbo</td>\n",
       "      <td>Provincial OvalleCSD Ovalle</td>\n",
       "      <td>2017</td>\n",
       "      <td>5160</td>\n",
       "    </tr>\n",
       "    <tr>\n",
       "      <th>35</th>\n",
       "      <td>Estadio Municipal Doctor Olegario Henríquez Es...</td>\n",
       "      <td>San Antonio</td>\n",
       "      <td>Valparaíso</td>\n",
       "      <td>San Antonio Unido</td>\n",
       "      <td>1962(2021)</td>\n",
       "      <td>5000</td>\n",
       "    </tr>\n",
       "    <tr>\n",
       "      <th>36</th>\n",
       "      <td>Estadio Fiscal Manuel Moya Medel</td>\n",
       "      <td>Cauquenes</td>\n",
       "      <td>Maule</td>\n",
       "      <td>Independiente de Cauquenes</td>\n",
       "      <td>1960(2021)</td>\n",
       "      <td>5000</td>\n",
       "    </tr>\n",
       "    <tr>\n",
       "      <th>37</th>\n",
       "      <td>Estadio Municipal Nelson Rojas</td>\n",
       "      <td>Vallenar</td>\n",
       "      <td>Atacama</td>\n",
       "      <td>Deportes Vallenar</td>\n",
       "      <td>NaN</td>\n",
       "      <td>5000</td>\n",
       "    </tr>\n",
       "    <tr>\n",
       "      <th>38</th>\n",
       "      <td>Estadio Parque Municipal</td>\n",
       "      <td>Valdivia</td>\n",
       "      <td>Los Ríos</td>\n",
       "      <td>Deportes Valdivia</td>\n",
       "      <td>NaN</td>\n",
       "      <td>5000</td>\n",
       "    </tr>\n",
       "    <tr>\n",
       "      <th>39</th>\n",
       "      <td>Estadio Fiscal Antonio Rispoli Díaz</td>\n",
       "      <td>Punta Arenas</td>\n",
       "      <td>Magallanes y Antártica Chilena</td>\n",
       "      <td>Club Sokol, Prat, Español, Scout, selección de...</td>\n",
       "      <td>1960(2008)</td>\n",
       "      <td>5000</td>\n",
       "    </tr>\n",
       "    <tr>\n",
       "      <th>40</th>\n",
       "      <td>Estadio Municipal de Los Ángeles</td>\n",
       "      <td>Los Ángeles</td>\n",
       "      <td>Biobío</td>\n",
       "      <td>Deportes Iberia</td>\n",
       "      <td>NaN</td>\n",
       "      <td>4150</td>\n",
       "    </tr>\n",
       "    <tr>\n",
       "      <th>41</th>\n",
       "      <td>Estadio Alberto Larraguibel</td>\n",
       "      <td>Angol</td>\n",
       "      <td>La Araucanía</td>\n",
       "      <td>Malleco Unido</td>\n",
       "      <td>NaN</td>\n",
       "      <td>4000</td>\n",
       "    </tr>\n",
       "    <tr>\n",
       "      <th>42</th>\n",
       "      <td>Estadio Federico Schwager</td>\n",
       "      <td>Coronel</td>\n",
       "      <td>Biobío</td>\n",
       "      <td>Lota Schwager</td>\n",
       "      <td>1942(2021)</td>\n",
       "      <td>4000</td>\n",
       "    </tr>\n",
       "    <tr>\n",
       "      <th>43</th>\n",
       "      <td>Estadio Fiscal Tucapel Bustamante Lastra</td>\n",
       "      <td>Linares</td>\n",
       "      <td>Maule</td>\n",
       "      <td>Deportes Linares</td>\n",
       "      <td>1948</td>\n",
       "      <td>4000</td>\n",
       "    </tr>\n",
       "    <tr>\n",
       "      <th>44</th>\n",
       "      <td>Estadio Santiago Bueras</td>\n",
       "      <td>Santiago (Maipú)</td>\n",
       "      <td>Metropolitana</td>\n",
       "      <td>Cultural Maipú</td>\n",
       "      <td>1984</td>\n",
       "      <td>4000</td>\n",
       "    </tr>\n",
       "    <tr>\n",
       "      <th>45</th>\n",
       "      <td>Estadio Lautaro de Buin</td>\n",
       "      <td>Buin</td>\n",
       "      <td>Metropolitana</td>\n",
       "      <td>Lautaro de Buin</td>\n",
       "      <td>1967(2020)</td>\n",
       "      <td>3700</td>\n",
       "    </tr>\n",
       "    <tr>\n",
       "      <th>46</th>\n",
       "      <td>Estadio Arturo Vidal</td>\n",
       "      <td>Santiago (San Joaquín)</td>\n",
       "      <td>Metropolitana</td>\n",
       "      <td>Real San Joaquín</td>\n",
       "      <td>2016</td>\n",
       "      <td>3500</td>\n",
       "    </tr>\n",
       "    <tr>\n",
       "      <th>47</th>\n",
       "      <td>Estadio Municipal Luis Navarro Avilés</td>\n",
       "      <td>Santiago (San Bernardo)</td>\n",
       "      <td>Metropolitana</td>\n",
       "      <td>Deportes Magallanes</td>\n",
       "      <td>NaN</td>\n",
       "      <td>3500</td>\n",
       "    </tr>\n",
       "    <tr>\n",
       "      <th>48</th>\n",
       "      <td>Estadio Municipal Ítalo Composto Scarpatti</td>\n",
       "      <td>Villa Alemana</td>\n",
       "      <td>Valparaíso</td>\n",
       "      <td>Deportivo Iván Mayo</td>\n",
       "      <td>NaN</td>\n",
       "      <td>3500</td>\n",
       "    </tr>\n",
       "    <tr>\n",
       "      <th>49</th>\n",
       "      <td>Estadio Regional de Los Andes</td>\n",
       "      <td>Los Andes</td>\n",
       "      <td>Valparaíso</td>\n",
       "      <td>Trasandino de Los Andes</td>\n",
       "      <td>1996</td>\n",
       "      <td>3300</td>\n",
       "    </tr>\n",
       "    <tr>\n",
       "      <th>50</th>\n",
       "      <td>Estadio Municipal Augusto Rodríguez</td>\n",
       "      <td>San Vicente de Tagua Tagua</td>\n",
       "      <td>O'Higgins</td>\n",
       "      <td>General Velásquez</td>\n",
       "      <td>NaN</td>\n",
       "      <td>3000</td>\n",
       "    </tr>\n",
       "    <tr>\n",
       "      <th>51</th>\n",
       "      <td>Estadio Municipal de Lo Barnechea</td>\n",
       "      <td>Santiago (Lo Barnechea)</td>\n",
       "      <td>Metropolitana</td>\n",
       "      <td>AC Barnechea</td>\n",
       "      <td>2015</td>\n",
       "      <td>2500</td>\n",
       "    </tr>\n",
       "    <tr>\n",
       "      <th>52</th>\n",
       "      <td>Estadio Municipal Raúl Vargas Verdejo</td>\n",
       "      <td>Quintero</td>\n",
       "      <td>Valparaíso</td>\n",
       "      <td>Quintero Unido</td>\n",
       "      <td>NaN</td>\n",
       "      <td>2500</td>\n",
       "    </tr>\n",
       "  </tbody>\n",
       "</table>\n",
       "</div>"
      ],
      "text/plain": [
       "                                               Nombre  \\\n",
       "N                                                       \n",
       "1            Estadio Nacional Julio Martínez Prádanos   \n",
       "2                   Estadio Monumental David Arellano   \n",
       "3                         Estadio Ester Roa Rebolledo   \n",
       "4                                   Estadio Sausalito   \n",
       "5                   Estadio Regional Calvo y Bascuñán   \n",
       "6                      Estadio Elías Figueroa Brander   \n",
       "7               Estadio Santa Laura - Universidad SEK   \n",
       "8                  Estadio Francisco Sánchez Rumoroso   \n",
       "9                               Estadio Germán Becker   \n",
       "10                                 Estadio La Portada   \n",
       "11                            Estadio Fiscal de Talca   \n",
       "12                    Estadio San Carlos de Apoquindo   \n",
       "13                                Estadio El Teniente   \n",
       "14                        Estadio Tierra de Campeones   \n",
       "15                        Estadio Zorros del Desierto   \n",
       "16                 Estadio Bicentenario de La Florida   \n",
       "17                Estadio Bicentenario Nelson Oyarzún   \n",
       "18                                   Estadio El Cobre   \n",
       "19                       Estadio Rubén Marcos Peralta   \n",
       "20                       Estadio Huachipato-CAP Acero   \n",
       "21                     Estadio Regional de Chinquihue   \n",
       "22                    Estadio Municipal de San Felipe   \n",
       "23                            Estadio Carlos Dittborn   \n",
       "24            Estadio Municipal Nicolás Chahuán Nazar   \n",
       "25                 Estadio Luis Valenzuela Hermosilla   \n",
       "26                                  Estadio La Granja   \n",
       "27                   Estadio Municipal de La Cisterna   \n",
       "28           Estadio Municipal Lucio Fariña Fernández   \n",
       "29                                   Estadio El Morro   \n",
       "30                   Estadio Roberto Bravo Santibáñez   \n",
       "31           Estadio Municipal Jorge Silva Valenzuela   \n",
       "32                    Estadio Municipal de La Pintana   \n",
       "33             Estadio Municipal Joaquín Muñoz García   \n",
       "34                                   Estadio Diaguita   \n",
       "35  Estadio Municipal Doctor Olegario Henríquez Es...   \n",
       "36                   Estadio Fiscal Manuel Moya Medel   \n",
       "37                     Estadio Municipal Nelson Rojas   \n",
       "38                           Estadio Parque Municipal   \n",
       "39                Estadio Fiscal Antonio Rispoli Díaz   \n",
       "40                   Estadio Municipal de Los Ángeles   \n",
       "41                        Estadio Alberto Larraguibel   \n",
       "42                          Estadio Federico Schwager   \n",
       "43           Estadio Fiscal Tucapel Bustamante Lastra   \n",
       "44                            Estadio Santiago Bueras   \n",
       "45                            Estadio Lautaro de Buin   \n",
       "46                               Estadio Arturo Vidal   \n",
       "47              Estadio Municipal Luis Navarro Avilés   \n",
       "48         Estadio Municipal Ítalo Composto Scarpatti   \n",
       "49                      Estadio Regional de Los Andes   \n",
       "50                Estadio Municipal Augusto Rodríguez   \n",
       "51                  Estadio Municipal de Lo Barnechea   \n",
       "52              Estadio Municipal Raúl Vargas Verdejo   \n",
       "\n",
       "                           LOC                          Region  \\\n",
       "N                                                                \n",
       "1             Santiago (Ñuñoa)                   Metropolitana   \n",
       "2             Santiago (Macul)                   Metropolitana   \n",
       "3                   Concepción                          Biobío   \n",
       "4                 Viña del Mar                      Valparaíso   \n",
       "5                  Antofagasta                     Antofagasta   \n",
       "6                   Valparaíso                      Valparaíso   \n",
       "7     Santiago (Independencia)                   Metropolitana   \n",
       "8                     Coquimbo                        Coquimbo   \n",
       "9                       Temuco                    La Araucanía   \n",
       "10                   La Serena                        Coquimbo   \n",
       "11                       Talca                           Maule   \n",
       "12       Santiago (Las Condes)                   Metropolitana   \n",
       "13                    Rancagua                       O'Higgins   \n",
       "14                     Iquique                        Tarapacá   \n",
       "15                      Calama                     Antofagasta   \n",
       "16       Santiago (La Florida)                   Metropolitana   \n",
       "17                     Chillán                           Ñuble   \n",
       "18                 El Salvador                         Atacama   \n",
       "19                      Osorno                       Los Lagos   \n",
       "20                  Talcahuano                          Biobío   \n",
       "21                Puerto Montt                       Los Lagos   \n",
       "22                  San Felipe                      Valparaíso   \n",
       "23                       Arica              Arica y Parinacota   \n",
       "24                   La Calera                      Valparaíso   \n",
       "25                     Copiapó                         Atacama   \n",
       "26                      Curicó                           Maule   \n",
       "27      Santiago (La Cisterna)                   Metropolitana   \n",
       "28                    Quillota                      Valparaíso   \n",
       "29                  Talcahuano                          Biobío   \n",
       "30                   Melipilla                   Metropolitana   \n",
       "31                San Fernando                       O'Higgins   \n",
       "32       Santiago (La Pintana)                   Metropolitana   \n",
       "33                  Santa Cruz                       O'Higgins   \n",
       "34                      Ovalle                        Coquimbo   \n",
       "35                 San Antonio                      Valparaíso   \n",
       "36                   Cauquenes                           Maule   \n",
       "37                    Vallenar                         Atacama   \n",
       "38                    Valdivia                        Los Ríos   \n",
       "39                Punta Arenas  Magallanes y Antártica Chilena   \n",
       "40                 Los Ángeles                          Biobío   \n",
       "41                       Angol                    La Araucanía   \n",
       "42                     Coronel                          Biobío   \n",
       "43                     Linares                           Maule   \n",
       "44            Santiago (Maipú)                   Metropolitana   \n",
       "45                        Buin                   Metropolitana   \n",
       "46      Santiago (San Joaquín)                   Metropolitana   \n",
       "47     Santiago (San Bernardo)                   Metropolitana   \n",
       "48               Villa Alemana                      Valparaíso   \n",
       "49                   Los Andes                      Valparaíso   \n",
       "50  San Vicente de Tagua Tagua                       O'Higgins   \n",
       "51     Santiago (Lo Barnechea)                   Metropolitana   \n",
       "52                    Quintero                      Valparaíso   \n",
       "\n",
       "                                               Equipo    apertura capacidad  \n",
       "N                                                                            \n",
       "1   Selección de fútbol de Chile  Universidad de C...  1938(2010)    48 665  \n",
       "2                                           Colo-Colo  1975(1989)    47 347  \n",
       "3   Deportes Concepción  Universidad de Concepción...  1962(2015)    30 448  \n",
       "4                                             Everton  1929(2015)    23 423  \n",
       "5                                Deportes Antofagasta  1964(2013)    21 178  \n",
       "6                                  Santiago Wanderers  1931(2014)    20 575  \n",
       "7                                      Unión Española  1923(2008)    19 000  \n",
       "8                                      Coquimbo Unido  1970(2008)    18 750  \n",
       "9                                     Deportes Temuco  1965(2008)    18 413  \n",
       "10                                 Deportes La Serena  1952(2015)    18 243  \n",
       "11                                   Rangers de Talca  1930(2019)    16 070  \n",
       "12                               Universidad Católica  1988(2012)    14 780  \n",
       "13                                          O'Higgins  1945(2015)    13 849  \n",
       "14                                   Deportes Iquique  1993(2020)    13 171  \n",
       "15                                           Cobreloa  1952(2015)    12 102  \n",
       "16                                     Audax Italiano        2008    12 000  \n",
       "17                                           Ñublense  1961(2008)    12 000  \n",
       "18                                           Cobresal        1980    12 000  \n",
       "19                                  Provincial Osorno        1940    11 000  \n",
       "20                                         Huachipato        2009    10 500  \n",
       "21                              Deportes Puerto Montt  1982(2013)    10 000  \n",
       "22                                   Unión San Felipe        1958    10 000  \n",
       "23                                San Marcos de Arica  1962(2014)      9625  \n",
       "24                                    Unión La Calera  1954(2019)      9200  \n",
       "25                                   Deportes Copiapó  1960(2011)      8500  \n",
       "26                                       Curicó Unido  1949(2016)      8278  \n",
       "27                                          Palestino        1988      8000  \n",
       "28                               San Luis de Quillota  1940(2010)      7700  \n",
       "29                                              Naval  1949(2012)      7000  \n",
       "30                                 Deportes Melipilla        1942      6500  \n",
       "31                                 Deportes Colchagua        1939      6000  \n",
       "32                 Santiago Morning  La Pintana Unida        1996      6000  \n",
       "33                                Deportes Santa Cruz        1920      6000  \n",
       "34                        Provincial OvalleCSD Ovalle        2017      5160  \n",
       "35                                  San Antonio Unido  1962(2021)      5000  \n",
       "36                         Independiente de Cauquenes  1960(2021)      5000  \n",
       "37                                  Deportes Vallenar         NaN      5000  \n",
       "38                                  Deportes Valdivia         NaN      5000  \n",
       "39  Club Sokol, Prat, Español, Scout, selección de...  1960(2008)      5000  \n",
       "40                                    Deportes Iberia         NaN      4150  \n",
       "41                                      Malleco Unido         NaN      4000  \n",
       "42                                      Lota Schwager  1942(2021)      4000  \n",
       "43                                   Deportes Linares        1948      4000  \n",
       "44                                     Cultural Maipú        1984      4000  \n",
       "45                                    Lautaro de Buin  1967(2020)      3700  \n",
       "46                                   Real San Joaquín        2016      3500  \n",
       "47                                Deportes Magallanes         NaN      3500  \n",
       "48                                Deportivo Iván Mayo         NaN      3500  \n",
       "49                            Trasandino de Los Andes        1996      3300  \n",
       "50                                  General Velásquez         NaN      3000  \n",
       "51                                       AC Barnechea        2015      2500  \n",
       "52                                     Quintero Unido         NaN      2500  "
      ]
     },
     "execution_count": 89,
     "metadata": {},
     "output_type": "execute_result"
    }
   ],
   "source": [
    "url = 'https://es.wikipedia.org/wiki/Anexo:Estadios_de_f%C3%BAtbol_de_Chile'\n",
    "respuesta = requests.get(url).text\n",
    "\n",
    "soup = BeautifulSoup(respuesta)\n",
    "body = soup.find('body').find('div',{'id':'content'}).find('div',{'id':'bodyContent'}).find('div',{'id':'mw-content-text','class':'mw-body-content mw-content-ltr'}).find('div',{'class':'mw-parser-output'}).find('table')\n",
    "equipos = body.find_all('tr')[1::]\n",
    "aux = []\n",
    "\n",
    "for rows in equipos:\n",
    "    columna = rows.find_all('td')\n",
    "    col = [columna[i].text.strip() for i in range(8)]\n",
    "    aux.append(col)\n",
    "\n",
    "df_estadios = pd.DataFrame(aux, columns=['N','Img','Nombre','LOC','Region','Equipo','apertura','capacidad'])\n",
    "df_estadios = df_estadios.set_index('N')\n",
    "df_estadios = df_estadios.drop(columns='Img')\n",
    "df_estadios['apertura'] = df_estadios['apertura'].replace('-----',np.NAN)\n",
    "aux_2=[]\n",
    "for cantidad in df_estadios.capacidad:\n",
    "    if len(cantidad) > 6:\n",
    "        cantidad= cantidad[:6]\n",
    "    aux_2.append(cantidad)\n",
    "df_estadios.capacidad=aux_2\n",
    "df_estadios"
   ]
  },
  {
   "cell_type": "code",
   "execution_count": 90,
   "metadata": {},
   "outputs": [],
   "source": [
    "publico_2018 = pd.read_csv('Asistentes_estadio/publico_2018.csv')\n",
    "publico_2018;"
   ]
  },
  {
   "cell_type": "code",
   "execution_count": 91,
   "metadata": {},
   "outputs": [],
   "source": [
    "publico_2019 = pd.read_csv('Asistentes_estadio/publico_2019.csv')\n",
    "publico_2019;"
   ]
  },
  {
   "cell_type": "code",
   "execution_count": 92,
   "metadata": {},
   "outputs": [],
   "source": [
    "publico_2020 = pd.read_csv('Asistentes_estadio/publico_2020.csv')\n",
    "publico_2020;"
   ]
  },
  {
   "cell_type": "code",
   "execution_count": 93,
   "metadata": {},
   "outputs": [
    {
     "data": {
      "text/html": [
       "<div>\n",
       "<style scoped>\n",
       "    .dataframe tbody tr th:only-of-type {\n",
       "        vertical-align: middle;\n",
       "    }\n",
       "\n",
       "    .dataframe tbody tr th {\n",
       "        vertical-align: top;\n",
       "    }\n",
       "\n",
       "    .dataframe thead th {\n",
       "        text-align: right;\n",
       "    }\n",
       "</style>\n",
       "<table border=\"1\" class=\"dataframe\">\n",
       "  <thead>\n",
       "    <tr style=\"text-align: right;\">\n",
       "      <th></th>\n",
       "      <th>Equipo</th>\n",
       "      <th>Espectadores</th>\n",
       "      <th>Promedio</th>\n",
       "      <th>Partidos</th>\n",
       "      <th>Porcentaje asistencia</th>\n",
       "    </tr>\n",
       "  </thead>\n",
       "  <tbody>\n",
       "    <tr>\n",
       "      <th>0</th>\n",
       "      <td>Universidad de Chile</td>\n",
       "      <td>764967</td>\n",
       "      <td>56222</td>\n",
       "      <td>27</td>\n",
       "      <td>57.80</td>\n",
       "    </tr>\n",
       "    <tr>\n",
       "      <th>1</th>\n",
       "      <td>Colo-colo</td>\n",
       "      <td>643883</td>\n",
       "      <td>49529</td>\n",
       "      <td>26</td>\n",
       "      <td>52.30</td>\n",
       "    </tr>\n",
       "    <tr>\n",
       "      <th>2</th>\n",
       "      <td>Universdad Católica</td>\n",
       "      <td>277922</td>\n",
       "      <td>21257</td>\n",
       "      <td>26</td>\n",
       "      <td>72.00</td>\n",
       "    </tr>\n",
       "    <tr>\n",
       "      <th>3</th>\n",
       "      <td>O'Higgins</td>\n",
       "      <td>158198</td>\n",
       "      <td>11630</td>\n",
       "      <td>27</td>\n",
       "      <td>40.25</td>\n",
       "    </tr>\n",
       "    <tr>\n",
       "      <th>4</th>\n",
       "      <td>Universdad de Concepción</td>\n",
       "      <td>119958</td>\n",
       "      <td>9564</td>\n",
       "      <td>25</td>\n",
       "      <td>15.75</td>\n",
       "    </tr>\n",
       "  </tbody>\n",
       "</table>\n",
       "</div>"
      ],
      "text/plain": [
       "                     Equipo  Espectadores  Promedio  Partidos  \\\n",
       "0      Universidad de Chile        764967     56222        27   \n",
       "1                 Colo-colo        643883     49529        26   \n",
       "2       Universdad Católica        277922     21257        26   \n",
       "3                 O'Higgins        158198     11630        27   \n",
       "4  Universdad de Concepción        119958      9564        25   \n",
       "\n",
       "   Porcentaje asistencia  \n",
       "0                  57.80  \n",
       "1                  52.30  \n",
       "2                  72.00  \n",
       "3                  40.25  \n",
       "4                  15.75  "
      ]
     },
     "execution_count": 93,
     "metadata": {},
     "output_type": "execute_result"
    }
   ],
   "source": [
    "df_publico = pd.concat([publico_2018, publico_2019],axis=0)\n",
    "\n",
    "df_publico['Año'] = df_publico['Año'].astype(int)\n",
    "df_publico['Capacidad'] = df_publico['Capacidad'].astype(int)\n",
    "df_publico['Espectadores'] = df_publico['Espectadores'].astype(int)\n",
    "df_publico['Promedio'] = df_publico['Promedio'].astype(int)\n",
    "df_publico['Partidos'] = df_publico['Partidos'].astype(int)\n",
    "df_publico['Porcentaje asistencia'] = df_publico['Porcentaje asistencia'].astype(float)\n",
    "\n",
    "df_publico = df_publico.groupby(by='Equipo').agg({'Espectadores':'sum','Promedio':'sum','Partidos':'sum','Porcentaje asistencia':'mean'})\n",
    "\n",
    "df_publico = df_publico.sort_values(by='Espectadores',ascending=False)\n",
    "df_publico = df_publico.reset_index()\n",
    "df_publico.head()\n"
   ]
  },
  {
   "cell_type": "markdown",
   "metadata": {},
   "source": [
    "### Veamos los ingresos de los equipos por ventas de jugadores"
   ]
  },
  {
   "cell_type": "code",
   "execution_count": 94,
   "metadata": {},
   "outputs": [],
   "source": [
    "t_2010 = pd.read_csv('Transferencias/transferencias_2010.csv', dtype='str')\n",
    "t_2010['Ingresos'] = t_2010['Ingresos'].astype(str).str.replace('.','').astype(int)\n",
    "t_2010['Gastos'] = t_2010['Gastos'].str.replace('.','').astype(int)\n",
    "t_2010['Balance Total'] = t_2010['Balance Total'].str.replace('.','').astype(int)\n",
    "\n",
    "remplazo=[]\n",
    "for equipo in t_2010['Equipos']:\n",
    "    equipo = equipo.replace('CD','')\n",
    "    equipo = equipo.replace('CSD','')\n",
    "    equipo =equipo.replace('CDP','')\n",
    "    equipo =equipo.strip()\n",
    "    remplazo.append(equipo)\n",
    "t_2010['Equipos'] = remplazo\n"
   ]
  },
  {
   "cell_type": "code",
   "execution_count": 95,
   "metadata": {},
   "outputs": [],
   "source": [
    "t_2011 = pd.read_csv('Transferencias/transferencias_2011.csv', dtype='str')\n",
    "t_2011['Ingresos'] = t_2011['Ingresos'].astype(str).str.replace('.','').astype(int)\n",
    "t_2011['Gastos'] = t_2011['Gastos'].astype(str).str.replace('.','').astype(int)\n",
    "t_2011['Balance Total'] = t_2011['Balance Total'].astype(str).str.replace('.','').astype(int)\n",
    "\n",
    "remplazo=[]\n",
    "for equipo in t_2011['Equipos']:\n",
    "    equipo = equipo.replace('CD','')\n",
    "    equipo = equipo.replace('CSD','')\n",
    "    equipo =equipo.replace('CDP','')\n",
    "    equipo =equipo.strip()\n",
    "    remplazo.append(equipo)\n",
    "t_2011['Equipos'] = remplazo"
   ]
  },
  {
   "cell_type": "code",
   "execution_count": 96,
   "metadata": {},
   "outputs": [],
   "source": [
    "t_2012 = pd.read_csv('Transferencias/transferencias_2012.csv', dtype='str')\n",
    "t_2012['Ingresos'] = t_2012['Ingresos'].astype(str).str.replace('.','').astype(int)\n",
    "t_2012['Gastos'] = t_2012['Gastos'].astype(str).str.replace('.','').astype(int)\n",
    "t_2012['Balance Total'] = t_2012['Balance Total'].astype(str).str.replace('.','').astype(int)\n",
    "\n",
    "remplazo=[]\n",
    "for equipo in t_2012['Equipos']:\n",
    "    equipo = equipo.replace('CD','')\n",
    "    equipo = equipo.replace('CSD','')\n",
    "    equipo =equipo.replace('CDP','')\n",
    "    equipo =equipo.strip()\n",
    "    remplazo.append(equipo)\n",
    "t_2012['Equipos'] = remplazo"
   ]
  },
  {
   "cell_type": "code",
   "execution_count": 97,
   "metadata": {},
   "outputs": [],
   "source": [
    "t_2013 = pd.read_csv('Transferencias/transferencias_2013.csv', dtype='str')\n",
    "t_2013['Ingresos'] = t_2013['Ingresos'].astype(str).str.replace('.','').astype(int)\n",
    "t_2013['Gastos'] = t_2013['Gastos'].astype(str).str.replace('.','').astype(int)\n",
    "t_2013['Balance Total'] = t_2013['Balance Total'].astype(str).str.replace('.','').astype(int)\n",
    "\n",
    "remplazo=[]\n",
    "for equipo in t_2013['Equipos']:\n",
    "    equipo = equipo.replace('CD','')\n",
    "    equipo = equipo.replace('CSD','')\n",
    "    equipo =equipo.replace('CDP','')\n",
    "    equipo =equipo.strip()\n",
    "    remplazo.append(equipo)\n",
    "t_2013['Equipos'] = remplazo"
   ]
  },
  {
   "cell_type": "code",
   "execution_count": 98,
   "metadata": {},
   "outputs": [],
   "source": [
    "t_2014 = pd.read_csv('Transferencias/transferencias_2014.csv', dtype='str')\n",
    "t_2014['Ingresos'] = t_2014['Ingresos'].astype(str).str.replace('.','').astype(int)\n",
    "t_2014['Gastos'] = t_2014['Gastos'].astype(str).str.replace('.','').astype(int)\n",
    "t_2014['Balance Total'] = t_2014['Balance Total'].astype(str).str.replace('.','').astype(int)\n",
    "\n",
    "remplazo=[]\n",
    "for equipo in t_2014['Equipos']:\n",
    "    equipo = equipo.replace('CD','')\n",
    "    equipo = equipo.replace('CSD','')\n",
    "    equipo =equipo.replace('CDP','')\n",
    "    equipo =equipo.strip()\n",
    "    remplazo.append(equipo)\n",
    "t_2014['Equipos'] = remplazo"
   ]
  },
  {
   "cell_type": "code",
   "execution_count": 99,
   "metadata": {},
   "outputs": [],
   "source": [
    "t_2015 = pd.read_csv('Transferencias/transferencias_2015.csv', dtype='str')\n",
    "t_2015['Ingresos'] = t_2015['Ingresos'].astype(str).str.replace('.','').astype(int)\n",
    "t_2015['Gastos'] = t_2015['Gastos'].astype(str).str.replace('.','').astype(int)\n",
    "t_2015['Balance Total'] = t_2015['Balance Total'].astype(str).str.replace('.','').astype(int)\n",
    "\n",
    "remplazo=[]\n",
    "for equipo in t_2015['Equipos']:\n",
    "    equipo = equipo.replace('CD','')\n",
    "    equipo = equipo.replace('CSD','')\n",
    "    equipo =equipo.replace('CDP','')\n",
    "    equipo =equipo.strip()\n",
    "    remplazo.append(equipo)\n",
    "t_2015['Equipos'] = remplazo"
   ]
  },
  {
   "cell_type": "code",
   "execution_count": 100,
   "metadata": {},
   "outputs": [],
   "source": [
    "t_2016 = pd.read_csv('Transferencias/transferencias_2016.csv', dtype='str')\n",
    "t_2016['Ingresos'] = t_2016['Ingresos'].astype(str).str.replace('.','').astype(int)\n",
    "t_2016['Gastos'] = t_2016['Gastos'].astype(str).str.replace('.','').astype(int)\n",
    "t_2016['Balance Total'] = t_2016['Balance Total'].astype(str).str.replace('.','').astype(int)\n",
    "\n",
    "remplazo=[]\n",
    "for equipo in t_2016['Equipos']:\n",
    "    equipo = equipo.replace('CD','')\n",
    "    equipo = equipo.replace('CSD','')\n",
    "    equipo =equipo.replace('CDP','')\n",
    "    equipo =equipo.strip()\n",
    "    remplazo.append(equipo)\n",
    "t_2016['Equipos'] = remplazo"
   ]
  },
  {
   "cell_type": "code",
   "execution_count": 101,
   "metadata": {},
   "outputs": [],
   "source": [
    "t_2017 = pd.read_csv('Transferencias/transferencias_2017.csv', dtype='str')\n",
    "t_2017['Ingresos'] = t_2017['Ingresos'].astype(str).str.replace('.','').astype(int)\n",
    "t_2017['Gastos'] = t_2017['Gastos'].astype(str).str.replace('.','').astype(int)\n",
    "t_2017['Balance Total'] = t_2017['Balance Total'].astype(str).str.replace('.','').astype(int)\n",
    "\n",
    "remplazo=[]\n",
    "for equipo in t_2017['Equipos']:\n",
    "    equipo = equipo.replace('CD','')\n",
    "    equipo = equipo.replace('CSD','')\n",
    "    equipo =equipo.replace('CDP','')\n",
    "    equipo =equipo.strip()\n",
    "    remplazo.append(equipo)\n",
    "t_2017['Equipos'] = remplazo"
   ]
  },
  {
   "cell_type": "code",
   "execution_count": 102,
   "metadata": {},
   "outputs": [],
   "source": [
    "t_2018 = pd.read_csv('Transferencias/transferencias_2018.csv', dtype='str')\n",
    "t_2018['Ingresos'] = t_2018['Ingresos'].astype(str).str.replace('.','').astype(int)\n",
    "t_2018['Gastos'] = t_2018['Gastos'].astype(str).str.replace('.','').astype(int)\n",
    "t_2018['Balance Total'] = t_2018['Balance Total'].astype(str).str.replace('.','').astype(int)\n",
    "\n",
    "remplazo=[]\n",
    "for equipo in t_2018['Equipos']:\n",
    "    equipo = equipo.replace('CD','')\n",
    "    equipo = equipo.replace('CSD','')\n",
    "    equipo =equipo.replace('CDP','')\n",
    "    equipo =equipo.strip()\n",
    "    remplazo.append(equipo)\n",
    "t_2018['Equipos'] = remplazo"
   ]
  },
  {
   "cell_type": "code",
   "execution_count": 103,
   "metadata": {},
   "outputs": [],
   "source": [
    "t_2019 = pd.read_csv('Transferencias/transferencias_2019.csv', dtype='str')\n",
    "t_2019['Ingresos'] = t_2019['Ingresos'].astype(str).str.replace('.','').astype(int)\n",
    "t_2019['Gastos'] = t_2019['Gastos'].astype(str).str.replace('.','').astype(int)\n",
    "t_2019['Balance Total'] = t_2019['Balance Total'].astype(str).str.replace('.','').astype(int)\n",
    "\n",
    "remplazo=[]\n",
    "for equipo in t_2019['Equipos']:\n",
    "    equipo = equipo.replace('CD','')\n",
    "    equipo = equipo.replace('CSD','')\n",
    "    equipo =equipo.replace('CDP','')\n",
    "    equipo =equipo.strip()\n",
    "    remplazo.append(equipo)\n",
    "t_2019['Equipos'] = remplazo"
   ]
  },
  {
   "cell_type": "code",
   "execution_count": 104,
   "metadata": {},
   "outputs": [],
   "source": [
    "t_2020 = pd.read_csv('Transferencias/transferencias_2020.csv', dtype='str')\n",
    "t_2020['Ingresos'] = t_2020['Ingresos'].astype(str).str.replace('.','').astype(int)\n",
    "t_2020['Gastos'] = t_2020['Gastos'].astype(str).str.replace('.','').astype(int)\n",
    "t_2020['Balance Total'] = t_2020['Balance Total'].astype(str).str.replace('.','').astype(int)\n",
    "\n",
    "remplazo=[]\n",
    "for equipo in t_2020['Equipos']:\n",
    "    equipo = equipo.replace('CD','')\n",
    "    equipo = equipo.replace('CSD','')\n",
    "    equipo =equipo.replace('CDP','')\n",
    "    equipo =equipo.strip()\n",
    "    remplazo.append(equipo)\n",
    "t_2020['Equipos'] = remplazo"
   ]
  },
  {
   "cell_type": "code",
   "execution_count": 109,
   "metadata": {},
   "outputs": [
    {
     "data": {
      "text/html": [
       "<div>\n",
       "<style scoped>\n",
       "    .dataframe tbody tr th:only-of-type {\n",
       "        vertical-align: middle;\n",
       "    }\n",
       "\n",
       "    .dataframe tbody tr th {\n",
       "        vertical-align: top;\n",
       "    }\n",
       "\n",
       "    .dataframe thead th {\n",
       "        text-align: right;\n",
       "    }\n",
       "</style>\n",
       "<table border=\"1\" class=\"dataframe\">\n",
       "  <thead>\n",
       "    <tr style=\"text-align: right;\">\n",
       "      <th></th>\n",
       "      <th>EQUIPO</th>\n",
       "      <th>INGRESOS</th>\n",
       "      <th>GASTOS</th>\n",
       "      <th>BALANCE TOTAL</th>\n",
       "    </tr>\n",
       "  </thead>\n",
       "  <tbody>\n",
       "    <tr>\n",
       "      <th>0</th>\n",
       "      <td>Audax Italiano</td>\n",
       "      <td>17327000</td>\n",
       "      <td>0</td>\n",
       "      <td>17327000</td>\n",
       "    </tr>\n",
       "    <tr>\n",
       "      <th>1</th>\n",
       "      <td>Deportes Iquique</td>\n",
       "      <td>1310000</td>\n",
       "      <td>0</td>\n",
       "      <td>1310000</td>\n",
       "    </tr>\n",
       "    <tr>\n",
       "      <th>2</th>\n",
       "      <td>Huachipato</td>\n",
       "      <td>10260000</td>\n",
       "      <td>4330000</td>\n",
       "      <td>5930000</td>\n",
       "    </tr>\n",
       "    <tr>\n",
       "      <th>3</th>\n",
       "      <td>Deportes Antofagasta</td>\n",
       "      <td>1687000</td>\n",
       "      <td>484000</td>\n",
       "      <td>1203000</td>\n",
       "    </tr>\n",
       "    <tr>\n",
       "      <th>4</th>\n",
       "      <td>Cobresal</td>\n",
       "      <td>0</td>\n",
       "      <td>265000</td>\n",
       "      <td>-265000</td>\n",
       "    </tr>\n",
       "    <tr>\n",
       "      <th>5</th>\n",
       "      <td>Colo-Colo</td>\n",
       "      <td>35208000</td>\n",
       "      <td>14275000</td>\n",
       "      <td>20933000</td>\n",
       "    </tr>\n",
       "    <tr>\n",
       "      <th>6</th>\n",
       "      <td>Coquimbo Unido</td>\n",
       "      <td>315000</td>\n",
       "      <td>0</td>\n",
       "      <td>315000</td>\n",
       "    </tr>\n",
       "    <tr>\n",
       "      <th>7</th>\n",
       "      <td>Cobreloa</td>\n",
       "      <td>1150000</td>\n",
       "      <td>0</td>\n",
       "      <td>1150000</td>\n",
       "    </tr>\n",
       "    <tr>\n",
       "      <th>8</th>\n",
       "      <td>Deportes La Serena</td>\n",
       "      <td>164000</td>\n",
       "      <td>0</td>\n",
       "      <td>164000</td>\n",
       "    </tr>\n",
       "    <tr>\n",
       "      <th>9</th>\n",
       "      <td>Deportes Temuco</td>\n",
       "      <td>0</td>\n",
       "      <td>0</td>\n",
       "      <td>0</td>\n",
       "    </tr>\n",
       "    <tr>\n",
       "      <th>10</th>\n",
       "      <td>Everton</td>\n",
       "      <td>1230000</td>\n",
       "      <td>0</td>\n",
       "      <td>1230000</td>\n",
       "    </tr>\n",
       "    <tr>\n",
       "      <th>11</th>\n",
       "      <td>O'Higgins</td>\n",
       "      <td>4044000</td>\n",
       "      <td>1022000</td>\n",
       "      <td>3022000</td>\n",
       "    </tr>\n",
       "    <tr>\n",
       "      <th>12</th>\n",
       "      <td>Curicó Unido</td>\n",
       "      <td>578000</td>\n",
       "      <td>200000</td>\n",
       "      <td>378000</td>\n",
       "    </tr>\n",
       "    <tr>\n",
       "      <th>13</th>\n",
       "      <td>Palestino</td>\n",
       "      <td>5278000</td>\n",
       "      <td>1060000</td>\n",
       "      <td>4218000</td>\n",
       "    </tr>\n",
       "    <tr>\n",
       "      <th>14</th>\n",
       "      <td>San Luis de Quillota</td>\n",
       "      <td>255000</td>\n",
       "      <td>0</td>\n",
       "      <td>255000</td>\n",
       "    </tr>\n",
       "    <tr>\n",
       "      <th>15</th>\n",
       "      <td>Santiago Morning</td>\n",
       "      <td>350000</td>\n",
       "      <td>0</td>\n",
       "      <td>350000</td>\n",
       "    </tr>\n",
       "    <tr>\n",
       "      <th>16</th>\n",
       "      <td>Santiago Wanderers</td>\n",
       "      <td>0</td>\n",
       "      <td>0</td>\n",
       "      <td>0</td>\n",
       "    </tr>\n",
       "    <tr>\n",
       "      <th>17</th>\n",
       "      <td>Universidad Católica</td>\n",
       "      <td>23505000</td>\n",
       "      <td>7085000</td>\n",
       "      <td>16420000</td>\n",
       "    </tr>\n",
       "    <tr>\n",
       "      <th>18</th>\n",
       "      <td>Universidad de Concepción</td>\n",
       "      <td>2700000</td>\n",
       "      <td>596000</td>\n",
       "      <td>2104000</td>\n",
       "    </tr>\n",
       "    <tr>\n",
       "      <th>19</th>\n",
       "      <td>Universidad de Chile</td>\n",
       "      <td>10750000</td>\n",
       "      <td>9520000</td>\n",
       "      <td>1230000</td>\n",
       "    </tr>\n",
       "    <tr>\n",
       "      <th>20</th>\n",
       "      <td>Unión Española</td>\n",
       "      <td>12360000</td>\n",
       "      <td>450000</td>\n",
       "      <td>11910000</td>\n",
       "    </tr>\n",
       "    <tr>\n",
       "      <th>21</th>\n",
       "      <td>Unión La Calera</td>\n",
       "      <td>950000</td>\n",
       "      <td>0</td>\n",
       "      <td>950000</td>\n",
       "    </tr>\n",
       "    <tr>\n",
       "      <th>22</th>\n",
       "      <td>Unión San Felipe</td>\n",
       "      <td>0</td>\n",
       "      <td>140000</td>\n",
       "      <td>-140000</td>\n",
       "    </tr>\n",
       "    <tr>\n",
       "      <th>23</th>\n",
       "      <td>Ñublense</td>\n",
       "      <td>40000</td>\n",
       "      <td>800000</td>\n",
       "      <td>-760000</td>\n",
       "    </tr>\n",
       "  </tbody>\n",
       "</table>\n",
       "</div>"
      ],
      "text/plain": [
       "                       EQUIPO  INGRESOS    GASTOS  BALANCE TOTAL\n",
       "0              Audax Italiano  17327000         0       17327000\n",
       "1            Deportes Iquique   1310000         0        1310000\n",
       "2                  Huachipato  10260000   4330000        5930000\n",
       "3        Deportes Antofagasta   1687000    484000        1203000\n",
       "4                    Cobresal         0    265000        -265000\n",
       "5                   Colo-Colo  35208000  14275000       20933000\n",
       "6              Coquimbo Unido    315000         0         315000\n",
       "7                    Cobreloa   1150000         0        1150000\n",
       "8          Deportes La Serena    164000         0         164000\n",
       "9             Deportes Temuco         0         0              0\n",
       "10                    Everton   1230000         0        1230000\n",
       "11                  O'Higgins   4044000   1022000        3022000\n",
       "12               Curicó Unido    578000    200000         378000\n",
       "13                  Palestino   5278000   1060000        4218000\n",
       "14       San Luis de Quillota    255000         0         255000\n",
       "15           Santiago Morning    350000         0         350000\n",
       "16         Santiago Wanderers         0         0              0\n",
       "17       Universidad Católica  23505000   7085000       16420000\n",
       "18  Universidad de Concepción   2700000    596000        2104000\n",
       "19       Universidad de Chile  10750000   9520000        1230000\n",
       "20             Unión Española  12360000    450000       11910000\n",
       "21            Unión La Calera    950000         0         950000\n",
       "22           Unión San Felipe         0    140000        -140000\n",
       "23                   Ñublense     40000    800000        -760000"
      ]
     },
     "execution_count": 109,
     "metadata": {},
     "output_type": "execute_result"
    }
   ],
   "source": [
    "df_decada_t=pd.concat([t_2010,t_2011,t_2012,t_2013,t_2014,t_2015,t_2016,t_2017,t_2018,t_2019,t_2020],axis=0)\n",
    "df_decada_t=df_decada_t.rename({'Equipos':'EQUIPO',\n",
    "'Ingresos':'Ingresos'.upper(),\n",
    "'Gastos':'Gastos'.upper(),\n",
    "'Balance Total':'Balance Total'.upper()},axis=1)\n",
    "df_decada_t = df_decada_t.groupby(by='EQUIPO').agg({'INGRESOS':'sum','GASTOS':'sum','BALANCE TOTAL':'sum'}).reset_index()\n",
    "\n",
    "df_decada_t['EQUIPO']=df_decada_t['EQUIPO'].replace('Club Deportes Iquique','Deportes Iquique')\n",
    "df_decada_t['EQUIPO']=df_decada_t['EQUIPO'].replace('Club Deportivo Huachipato','Huachipato')\n",
    "df_decada_t['EQUIPO']=df_decada_t['EQUIPO'].replace('Club de Deportes Antofagasta','Deportes Antofagasta')\n",
    "df_decada_t['EQUIPO']=df_decada_t['EQUIPO'].replace('Deportes Cobreloa','Cobreloa')\n",
    "df_decada_t['EQUIPO']=df_decada_t['EQUIPO'].replace('P Curicó Unido','Curicó Unido')\n",
    "df_decada_t['EQUIPO']=df_decada_t['EQUIPO'].replace('Colo Colo','Colo-Colo')\n",
    "df_decada_t['EQUIPO']=df_decada_t['EQUIPO'].replace('Universidad Concepción','Universidad de Concepción')\n",
    "df_decada_t['BALANCE TOTAL'] = df_decada_t['INGRESOS']-df_decada_t['GASTOS']\n",
    "df_decada_t\n"
   ]
  },
  {
   "cell_type": "code",
   "execution_count": 111,
   "metadata": {},
   "outputs": [
    {
     "data": {
      "text/html": [
       "<div>\n",
       "<style scoped>\n",
       "    .dataframe tbody tr th:only-of-type {\n",
       "        vertical-align: middle;\n",
       "    }\n",
       "\n",
       "    .dataframe tbody tr th {\n",
       "        vertical-align: top;\n",
       "    }\n",
       "\n",
       "    .dataframe thead th {\n",
       "        text-align: right;\n",
       "    }\n",
       "</style>\n",
       "<table border=\"1\" class=\"dataframe\">\n",
       "  <thead>\n",
       "    <tr style=\"text-align: right;\">\n",
       "      <th></th>\n",
       "      <th>EQUIPO</th>\n",
       "      <th>PTS</th>\n",
       "      <th>PJ</th>\n",
       "      <th>PG</th>\n",
       "      <th>PE</th>\n",
       "      <th>PP</th>\n",
       "      <th>GF</th>\n",
       "      <th>GC</th>\n",
       "      <th>INGRESOS</th>\n",
       "      <th>GASTOS</th>\n",
       "      <th>BALANCE TOTAL</th>\n",
       "    </tr>\n",
       "  </thead>\n",
       "  <tbody>\n",
       "    <tr>\n",
       "      <th>0</th>\n",
       "      <td>Universidad Católica</td>\n",
       "      <td>621</td>\n",
       "      <td>333</td>\n",
       "      <td>181</td>\n",
       "      <td>78</td>\n",
       "      <td>74</td>\n",
       "      <td>617</td>\n",
       "      <td>377</td>\n",
       "      <td>23505000.0</td>\n",
       "      <td>7085000.0</td>\n",
       "      <td>16420000.0</td>\n",
       "    </tr>\n",
       "    <tr>\n",
       "      <th>1</th>\n",
       "      <td>Colo-Colo</td>\n",
       "      <td>591</td>\n",
       "      <td>333</td>\n",
       "      <td>172</td>\n",
       "      <td>75</td>\n",
       "      <td>86</td>\n",
       "      <td>550</td>\n",
       "      <td>380</td>\n",
       "      <td>35208000.0</td>\n",
       "      <td>14275000.0</td>\n",
       "      <td>20933000.0</td>\n",
       "    </tr>\n",
       "    <tr>\n",
       "      <th>2</th>\n",
       "      <td>Universidad de Chile</td>\n",
       "      <td>575</td>\n",
       "      <td>333</td>\n",
       "      <td>163</td>\n",
       "      <td>86</td>\n",
       "      <td>84</td>\n",
       "      <td>607</td>\n",
       "      <td>414</td>\n",
       "      <td>10750000.0</td>\n",
       "      <td>9520000.0</td>\n",
       "      <td>1230000.0</td>\n",
       "    </tr>\n",
       "    <tr>\n",
       "      <th>3</th>\n",
       "      <td>Unión Española</td>\n",
       "      <td>502</td>\n",
       "      <td>333</td>\n",
       "      <td>138</td>\n",
       "      <td>88</td>\n",
       "      <td>108</td>\n",
       "      <td>527</td>\n",
       "      <td>470</td>\n",
       "      <td>12360000.0</td>\n",
       "      <td>450000.0</td>\n",
       "      <td>11910000.0</td>\n",
       "    </tr>\n",
       "    <tr>\n",
       "      <th>4</th>\n",
       "      <td>O'Higgins</td>\n",
       "      <td>490</td>\n",
       "      <td>333</td>\n",
       "      <td>136</td>\n",
       "      <td>82</td>\n",
       "      <td>115</td>\n",
       "      <td>471</td>\n",
       "      <td>432</td>\n",
       "      <td>4044000.0</td>\n",
       "      <td>1022000.0</td>\n",
       "      <td>3022000.0</td>\n",
       "    </tr>\n",
       "  </tbody>\n",
       "</table>\n",
       "</div>"
      ],
      "text/plain": [
       "                 EQUIPO  PTS   PJ   PG  PE   PP   GF   GC    INGRESOS  \\\n",
       "0  Universidad Católica  621  333  181  78   74  617  377  23505000.0   \n",
       "1             Colo-Colo  591  333  172  75   86  550  380  35208000.0   \n",
       "2  Universidad de Chile  575  333  163  86   84  607  414  10750000.0   \n",
       "3        Unión Española  502  333  138  88  108  527  470  12360000.0   \n",
       "4             O'Higgins  490  333  136  82  115  471  432   4044000.0   \n",
       "\n",
       "       GASTOS  BALANCE TOTAL  \n",
       "0   7085000.0     16420000.0  \n",
       "1  14275000.0     20933000.0  \n",
       "2   9520000.0      1230000.0  \n",
       "3    450000.0     11910000.0  \n",
       "4   1022000.0      3022000.0  "
      ]
     },
     "execution_count": 111,
     "metadata": {},
     "output_type": "execute_result"
    }
   ],
   "source": [
    "xd = df_decada.merge(df_decada_t,on='EQUIPO',how='outer').replace(np.nan,0)\n",
    "xd.head()"
   ]
  },
  {
   "cell_type": "markdown",
   "metadata": {},
   "source": []
  },
  {
   "cell_type": "markdown",
   "metadata": {},
   "source": [
    "#### Referencias:\n",
    "* ##### Tabla final de temporada:\n",
    "  * ##### 2020 : https://es.wikipedia.org/wiki/Primera_Divisi%C3%B3n_de_Chile_2020 \n",
    "  * ##### 2019 : https://es.wikipedia.org/wiki/Primera_Divisi%C3%B3n_de_Chile_2019 \n",
    "* ##### Datos de Estadio y asistencia\n",
    "    * ##### Asistencia de público: http://www.estadioseguro.gob.cl/2019/01/04/asistencia-de-publico-a-los-estadios-marca-cifra-record-en-2018/\n",
    "    * #####"
   ]
  },
  {
   "cell_type": "markdown",
   "metadata": {},
   "source": []
  }
 ],
 "metadata": {
  "interpreter": {
   "hash": "0d9ef2726c7cbc720057f4c39f3e4c465043fec867d9adc0590a17b79f2ca7c0"
  },
  "kernelspec": {
   "display_name": "Python 3.8.11 64-bit ('coco': conda)",
   "language": "python",
   "name": "python3"
  },
  "language_info": {
   "codemirror_mode": {
    "name": "ipython",
    "version": 3
   },
   "file_extension": ".py",
   "mimetype": "text/x-python",
   "name": "python",
   "nbconvert_exporter": "python",
   "pygments_lexer": "ipython3",
   "version": "3.8.11"
  },
  "orig_nbformat": 4
 },
 "nbformat": 4,
 "nbformat_minor": 2
}
